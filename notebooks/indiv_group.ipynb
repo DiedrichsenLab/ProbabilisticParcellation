{
 "cells": [
  {
   "cell_type": "code",
   "execution_count": null,
   "metadata": {},
   "outputs": [],
   "source": [
    "import sys\n",
    "sys.path.append(\"..\")\n",
    "from ProbabilisticParcellation.util import *\n",
    "import ProbabilisticParcellation.individ_group as ig\n",
    "from Functional_Fusion.dataset import * \n",
    "import matplotlib.pyplot as plt\n",
    "import seaborn as sb\n",
    "import pandas as pd\n",
    "\n",
    "base_dir = '/Volumes/diedrichsen_data$/data/FunctionalFusion'\n",
    "if not Path(base_dir).exists():\n",
    "    base_dir = '/srv/diedrichsen/data/FunctionalFusion'\n",
    "    "
   ]
  },
  {
   "cell_type": "markdown",
   "metadata": {},
   "source": [
    "## Calculate the individual-group analysis and save as file"
   ]
  },
  {
   "cell_type": "code",
   "execution_count": null,
   "metadata": {},
   "outputs": [],
   "source": [
    "info,model = load_batch_best('Models_01/asym_Md_space-MNISymC3_K-20')\n",
    "D = ig.individ_group(model)\n",
    "fname = base_dir+ '/Models/Evaluation_01/indivgroup_prederr_Md_K-20.tsv'\n",
    "D.to_csv(fname,sep='\\t',index=False)\n"
   ]
  },
  {
   "cell_type": "markdown",
   "metadata": {},
   "source": [
    "## Load results and plot Figure"
   ]
  },
  {
   "cell_type": "code",
   "execution_count": 4,
   "metadata": {},
   "outputs": [
    {
     "data": {
      "text/html": [
       "<div>\n",
       "<style scoped>\n",
       "    .dataframe tbody tr th:only-of-type {\n",
       "        vertical-align: middle;\n",
       "    }\n",
       "\n",
       "    .dataframe tbody tr th {\n",
       "        vertical-align: top;\n",
       "    }\n",
       "\n",
       "    .dataframe thead th {\n",
       "        text-align: right;\n",
       "    }\n",
       "</style>\n",
       "<table border=\"1\" class=\"dataframe\">\n",
       "  <thead>\n",
       "    <tr style=\"text-align: right;\">\n",
       "      <th></th>\n",
       "      <th>type</th>\n",
       "      <th>runs</th>\n",
       "      <th>coserr</th>\n",
       "      <th>subject</th>\n",
       "    </tr>\n",
       "  </thead>\n",
       "  <tbody>\n",
       "    <tr>\n",
       "      <th>0</th>\n",
       "      <td>emissionOnly</td>\n",
       "      <td>1</td>\n",
       "      <td>0.760188</td>\n",
       "      <td>1</td>\n",
       "    </tr>\n",
       "    <tr>\n",
       "      <th>1</th>\n",
       "      <td>emissionAndPrior</td>\n",
       "      <td>1</td>\n",
       "      <td>0.596488</td>\n",
       "      <td>1</td>\n",
       "    </tr>\n",
       "    <tr>\n",
       "      <th>2</th>\n",
       "      <td>emissionOnly</td>\n",
       "      <td>2</td>\n",
       "      <td>0.692374</td>\n",
       "      <td>1</td>\n",
       "    </tr>\n",
       "    <tr>\n",
       "      <th>3</th>\n",
       "      <td>emissionAndPrior</td>\n",
       "      <td>2</td>\n",
       "      <td>0.567362</td>\n",
       "      <td>1</td>\n",
       "    </tr>\n",
       "    <tr>\n",
       "      <th>4</th>\n",
       "      <td>emissionOnly</td>\n",
       "      <td>3</td>\n",
       "      <td>0.655426</td>\n",
       "      <td>1</td>\n",
       "    </tr>\n",
       "    <tr>\n",
       "      <th>...</th>\n",
       "      <td>...</td>\n",
       "      <td>...</td>\n",
       "      <td>...</td>\n",
       "      <td>...</td>\n",
       "    </tr>\n",
       "    <tr>\n",
       "      <th>787</th>\n",
       "      <td>emissionOnly</td>\n",
       "      <td>15</td>\n",
       "      <td>0.584605</td>\n",
       "      <td>24</td>\n",
       "    </tr>\n",
       "    <tr>\n",
       "      <th>788</th>\n",
       "      <td>emissionAndPrior</td>\n",
       "      <td>15</td>\n",
       "      <td>0.533992</td>\n",
       "      <td>24</td>\n",
       "    </tr>\n",
       "    <tr>\n",
       "      <th>789</th>\n",
       "      <td>emissionOnly</td>\n",
       "      <td>16</td>\n",
       "      <td>0.578605</td>\n",
       "      <td>24</td>\n",
       "    </tr>\n",
       "    <tr>\n",
       "      <th>790</th>\n",
       "      <td>emissionAndPrior</td>\n",
       "      <td>16</td>\n",
       "      <td>0.530627</td>\n",
       "      <td>24</td>\n",
       "    </tr>\n",
       "    <tr>\n",
       "      <th>791</th>\n",
       "      <td>group</td>\n",
       "      <td>0</td>\n",
       "      <td>0.646648</td>\n",
       "      <td>24</td>\n",
       "    </tr>\n",
       "  </tbody>\n",
       "</table>\n",
       "<p>792 rows × 4 columns</p>\n",
       "</div>"
      ],
      "text/plain": [
       "                 type  runs    coserr  subject\n",
       "0        emissionOnly     1  0.760188        1\n",
       "1    emissionAndPrior     1  0.596488        1\n",
       "2        emissionOnly     2  0.692374        1\n",
       "3    emissionAndPrior     2  0.567362        1\n",
       "4        emissionOnly     3  0.655426        1\n",
       "..                ...   ...       ...      ...\n",
       "787      emissionOnly    15  0.584605       24\n",
       "788  emissionAndPrior    15  0.533992       24\n",
       "789      emissionOnly    16  0.578605       24\n",
       "790  emissionAndPrior    16  0.530627       24\n",
       "791             group     0  0.646648       24\n",
       "\n",
       "[792 rows x 4 columns]"
      ]
     },
     "execution_count": 4,
     "metadata": {},
     "output_type": "execute_result"
    }
   ],
   "source": [
    "fname = base_dir+ '/Models/Evaluation_01/indivgroup_prederr_Md_K-20.tsv'\n",
    "D = pd.read_csv(fname,sep='\\t')\n",
    "D"
   ]
  },
  {
   "cell_type": "markdown",
   "metadata": {},
   "source": [
    "The analysis compares the cross-validated error on MDTB ses-s2, depending on different parcellations: \n",
    "\n",
    "* emissionOnly: Based only on the individual data, based only on data from 1-16 runs (10-160min of scanning) This would be what you get with an individual functional localizer\n",
    "* group: dashed line. Just based on the group maps\n",
    "* emissionAndPrior: Integration of group prior and individual parcellation "
   ]
  },
  {
   "cell_type": "code",
   "execution_count": 5,
   "metadata": {},
   "outputs": [
    {
     "data": {
      "text/plain": [
       "<matplotlib.lines.Line2D at 0x11ac7d2e0>"
      ]
     },
     "execution_count": 5,
     "metadata": {},
     "output_type": "execute_result"
    },
    {
     "data": {
      "image/png": "[encoded data removed]",
      "text/plain": [
       "<Figure size 432x288 with 1 Axes>"
      ]
     },
     "metadata": {
      "needs_background": "light"
     },
     "output_type": "display_data"
    }
   ],
   "source": [
    "gm = D.coserr[D.type=='group'].mean()\n",
    "sb.lineplot(data=D[D.type!='group'],\n",
    "    y='coserr',x='runs',hue='type',markers=True, dashes=False)\n",
    "plt.xticks(ticks=np.arange(16)+1)\n",
    "plt.axhline(gm,color='b',ls=':')"
   ]
  }
 ],
 "metadata": {
  "kernelspec": {
   "display_name": "Python 3.8.5 ('base')",
   "language": "python",
   "name": "python3"
  },
  "language_info": {
   "codemirror_mode": {
    "name": "ipython",
    "version": 3
   },
   "file_extension": ".py",
   "mimetype": "text/x-python",
   "name": "python",
   "nbconvert_exporter": "python",
   "pygments_lexer": "ipython3",
   "version": "3.8.5"
  },
  "orig_nbformat": 4,
  "vscode": {
   "interpreter": {
    "hash": "82c9595c6ac3df5bed1366f4aa85323e4ec1b3448185f6be6e163d2b6e222f49"
   }
  }
 },
 "nbformat": 4,
 "nbformat_minor": 2
}
