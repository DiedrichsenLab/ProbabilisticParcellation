{
 "cells": [
  {
   "cell_type": "code",
   "execution_count": 2,
   "metadata": {},
   "outputs": [],
   "source": [
    "from pathlib import Path\n",
    "import pandas as pd\n",
    "import numpy as np\n",
    "import matplotlib.pyplot as plt\n",
    "import seaborn as sb\n",
    "\n",
    "base_dir = '/Volumes/diedrichsen_data$/data/FunctionalFusion'\n",
    "if not Path(base_dir).exists():\n",
    "    base_dir = '/srv/diedrichsen/data/FunctionalFusion'\n",
    "\n",
    "eval_dir = base_dir + '/Models/Evaluation_01'"
   ]
  },
  {
   "cell_type": "markdown",
   "metadata": {},
   "source": [
    "This notebook plots the cosine error evaluation of the different parcellations"
   ]
  },
  {
   "cell_type": "code",
   "execution_count": 1,
   "metadata": {},
   "outputs": [
    {
     "ename": "NameError",
     "evalue": "name 'pd' is not defined",
     "output_type": "error",
     "traceback": [
      "\u001b[0;31m---------------------------------------------------------------------------\u001b[0m",
      "\u001b[0;31mNameError\u001b[0m                                 Traceback (most recent call last)",
      "\u001b[0;32m/var/folders/sz/7lqgfrln5738xc_hktty2sb00000gp/T/ipykernel_60558/893004090.py\u001b[0m in \u001b[0;36m<module>\u001b[0;34m\u001b[0m\n\u001b[1;32m      1\u001b[0m \u001b[0;31m# Load evaluation results\u001b[0m\u001b[0;34m\u001b[0m\u001b[0;34m\u001b[0m\u001b[0;34m\u001b[0m\u001b[0m\n\u001b[0;32m----> 2\u001b[0;31m \u001b[0mD\u001b[0m \u001b[0;34m=\u001b[0m \u001b[0mpd\u001b[0m\u001b[0;34m.\u001b[0m\u001b[0mread_csv\u001b[0m\u001b[0;34m(\u001b[0m\u001b[0meval_dir\u001b[0m \u001b[0;34m+\u001b[0m \u001b[0;34m'/eval_prederr_asym_K-12.tsv'\u001b[0m\u001b[0;34m,\u001b[0m \u001b[0msep\u001b[0m\u001b[0;34m=\u001b[0m\u001b[0;34m'\\t'\u001b[0m\u001b[0;34m)\u001b[0m\u001b[0;34m\u001b[0m\u001b[0;34m\u001b[0m\u001b[0m\n\u001b[0m\u001b[1;32m      3\u001b[0m \u001b[0mD\u001b[0m\u001b[0;34m\u001b[0m\u001b[0;34m\u001b[0m\u001b[0m\n",
      "\u001b[0;31mNameError\u001b[0m: name 'pd' is not defined"
     ]
    }
   ],
   "source": [
    "# Load evaluation results\n",
    "D = pd.read_csv(eval_dir + '/eval_prederr_asym_K-12.tsv', sep='\\t')\n",
    "D"
   ]
  },
  {
   "cell_type": "code",
   "execution_count": 3,
   "metadata": {},
   "outputs": [
    {
     "data": {
      "text/plain": [
       "<AxesSubplot:xlabel='test_data', ylabel='coserr_group'>"
      ]
     },
     "execution_count": 3,
     "metadata": {},
     "output_type": "execute_result"
    },
    {
     "data": {
      "image/png": "[encoded data removed]",
      "text/plain": [
       "<Figure size 432x288 with 1 Axes>"
      ]
     },
     "metadata": {
      "needs_background": "light"
     },
     "output_type": "display_data"
    }
   ],
   "source": [
    "sb.barplot(data=D[D.test_data!='Ibc'],x='test_data',y='coserr_group',hue='train_data')"
   ]
  },
  {
   "cell_type": "code",
   "execution_count": 22,
   "metadata": {},
   "outputs": [
    {
     "data": {
      "text/html": [
       "<div>\n",
       "<style scoped>\n",
       "    .dataframe tbody tr th:only-of-type {\n",
       "        vertical-align: middle;\n",
       "    }\n",
       "\n",
       "    .dataframe tbody tr th {\n",
       "        vertical-align: top;\n",
       "    }\n",
       "\n",
       "    .dataframe thead th {\n",
       "        text-align: right;\n",
       "    }\n",
       "</style>\n",
       "<table border=\"1\" class=\"dataframe\">\n",
       "  <thead>\n",
       "    <tr style=\"text-align: right;\">\n",
       "      <th></th>\n",
       "      <th>count</th>\n",
       "      <th>mean</th>\n",
       "      <th>std</th>\n",
       "      <th>min</th>\n",
       "      <th>25%</th>\n",
       "      <th>50%</th>\n",
       "      <th>75%</th>\n",
       "      <th>max</th>\n",
       "    </tr>\n",
       "    <tr>\n",
       "      <th>train_data</th>\n",
       "      <th></th>\n",
       "      <th></th>\n",
       "      <th></th>\n",
       "      <th></th>\n",
       "      <th></th>\n",
       "      <th></th>\n",
       "      <th></th>\n",
       "      <th></th>\n",
       "    </tr>\n",
       "  </thead>\n",
       "  <tbody>\n",
       "    <tr>\n",
       "      <th>['Mdtb' 'Pontine' 'Nishimoto']</th>\n",
       "      <td>96.0</td>\n",
       "      <td>0.068062</td>\n",
       "      <td>0.022415</td>\n",
       "      <td>0.036950</td>\n",
       "      <td>0.052314</td>\n",
       "      <td>0.060283</td>\n",
       "      <td>0.075061</td>\n",
       "      <td>0.134415</td>\n",
       "    </tr>\n",
       "    <tr>\n",
       "      <th>['Mdtb']</th>\n",
       "      <td>96.0</td>\n",
       "      <td>0.065320</td>\n",
       "      <td>0.021927</td>\n",
       "      <td>0.035921</td>\n",
       "      <td>0.050435</td>\n",
       "      <td>0.057539</td>\n",
       "      <td>0.072148</td>\n",
       "      <td>0.127865</td>\n",
       "    </tr>\n",
       "    <tr>\n",
       "      <th>['Nishimoto']</th>\n",
       "      <td>96.0</td>\n",
       "      <td>0.084702</td>\n",
       "      <td>0.026859</td>\n",
       "      <td>0.047537</td>\n",
       "      <td>0.064265</td>\n",
       "      <td>0.078370</td>\n",
       "      <td>0.100006</td>\n",
       "      <td>0.156431</td>\n",
       "    </tr>\n",
       "    <tr>\n",
       "      <th>['Pontine']</th>\n",
       "      <td>96.0</td>\n",
       "      <td>0.077210</td>\n",
       "      <td>0.024743</td>\n",
       "      <td>0.044232</td>\n",
       "      <td>0.059323</td>\n",
       "      <td>0.069797</td>\n",
       "      <td>0.088200</td>\n",
       "      <td>0.153313</td>\n",
       "    </tr>\n",
       "  </tbody>\n",
       "</table>\n",
       "</div>"
      ],
      "text/plain": [
       "                                count      mean       std       min       25%  \\\n",
       "train_data                                                                      \n",
       "['Mdtb' 'Pontine' 'Nishimoto']   96.0  0.068062  0.022415  0.036950  0.052314   \n",
       "['Mdtb']                         96.0  0.065320  0.021927  0.035921  0.050435   \n",
       "['Nishimoto']                    96.0  0.084702  0.026859  0.047537  0.064265   \n",
       "['Pontine']                      96.0  0.077210  0.024743  0.044232  0.059323   \n",
       "\n",
       "                                     50%       75%       max  \n",
       "train_data                                                    \n",
       "['Mdtb' 'Pontine' 'Nishimoto']  0.060283  0.075061  0.134415  \n",
       "['Mdtb']                        0.057539  0.072148  0.127865  \n",
       "['Nishimoto']                   0.078370  0.100006  0.156431  \n",
       "['Pontine']                     0.069797  0.088200  0.153313  "
      ]
     },
     "execution_count": 22,
     "metadata": {},
     "output_type": "execute_result"
    },
    {
     "data": {
      "image/png": "[encoded data removed]",
      "text/plain": [
       "<Figure size 640x480 with 1 Axes>"
      ]
     },
     "metadata": {},
     "output_type": "display_data"
    }
   ],
   "source": [
    "\n",
    "sb.barplot(data=coserror, x=\"test_data\", y=\"coserr_ind2\", hue=\"train_data\")\n",
    "\n",
    "coserror.groupby('train_data').coserr_ind2.describe()\n"
   ]
  },
  {
   "cell_type": "code",
   "execution_count": 23,
   "metadata": {},
   "outputs": [
    {
     "data": {
      "text/plain": [
       "<AxesSubplot:xlabel='model_name', ylabel='coserr_group'>"
      ]
     },
     "execution_count": 10,
     "metadata": {},
     "output_type": "execute_result"
    },
    {
     "data": {
      "image/png": "[encoded data removed]",
      "text/plain": [
       "<Figure size 432x288 with 1 Axes>"
      ]
     },
     "metadata": {
      "needs_background": "light"
     },
     "output_type": "display_data"
    }
   ],
   "source": [
    "\n",
    "sb.barplot(data=D, x=\"model_name\", y=\"coserr_group\")\n"
   ]
  }
 ],
 "metadata": {
  "kernelspec": {
   "display_name": "Python 3.8.5 ('base')",
   "language": "python",
   "name": "python3"
  },
  "language_info": {
   "codemirror_mode": {
    "name": "ipython",
    "version": 3
   },
   "file_extension": ".py",
   "mimetype": "text/x-python",
   "name": "python",
   "nbconvert_exporter": "python",
   "pygments_lexer": "ipython3",
   "version": "3.8.5"
  },
  "orig_nbformat": 4,
  "vscode": {
   "interpreter": {
    "hash": "82c9595c6ac3df5bed1366f4aa85323e4ec1b3448185f6be6e163d2b6e222f49"
   }
  }
 },
 "nbformat": 4,
 "nbformat_minor": 2
}
