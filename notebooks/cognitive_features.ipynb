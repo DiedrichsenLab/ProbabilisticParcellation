{
 "cells": [
  {
   "cell_type": "code",
   "execution_count": 2,
   "metadata": {},
   "outputs": [],
   "source": [
    "import sys\n",
    "sys.path.append(\"..\")\n",
    "from ProbabilisticParcellation.util import *\n",
    "import ProbabilisticParcellation.hierarchical_clustering as cl\n",
    "import ProbabilisticParcellation.similarity_colormap as cm\n",
    "import ProbabilisticParcellation.functional_profiles as fp\n",
    "from Functional_Fusion.dataset import *\n",
    "import matplotlib.pyplot as plt\n",
    "import string\n",
    "import PcmPy as pcm\n",
    "from ProbabilisticParcellation.scripts.parcel_hierarchy import analyze_parcel\n",
    "from copy import deepcopy\n",
    "\n",
    "base_dir = '/Volumes/diedrichsen_data$/data/FunctionalFusion'\n",
    "if not Path(base_dir).exists():\n",
    "    base_dir = '/srv/diedrichsen/data/FunctionalFusion'\n",
    "if not Path(base_dir).exists():\n",
    "    base_dir = '/Users/callithrix/Documents/Projects/Functional_Fusion/'\n",
    "if not Path(base_dir).exists():\n",
    "    raise (NameError('Could not find base_dir'))\n",
    "    "
   ]
  },
  {
   "attachments": {},
   "cell_type": "markdown",
   "metadata": {},
   "source": [
    "## Load profile data"
   ]
  },
  {
   "cell_type": "code",
   "execution_count": 3,
   "metadata": {},
   "outputs": [],
   "source": [
    "atlas = 'MNISymC2'\n",
    "fine_model = f'/Models_03/sym_MdPoNiIbWmDeSo_space-{atlas}_K-68'\n",
    "profile = pd.read_csv(\n",
    "    f'{model_dir}/Atlases/{fine_model.split(\"/\")[-1]}_task_profile_data.tsv', sep=\"\\t\"\n",
    ")\n",
    "\n"
   ]
  },
  {
   "attachments": {},
   "cell_type": "markdown",
   "metadata": {},
   "source": [
    "### Load IBC feature tags"
   ]
  },
  {
   "cell_type": "code",
   "execution_count": 5,
   "metadata": {},
   "outputs": [],
   "source": [
    "ibc_features = pd.read_csv(\n",
    "    f'{model_dir}/../../ibc/all_contrasts.tsv', sep=\"\\t\"\n",
    ")\n"
   ]
  }
 ],
 "metadata": {
  "kernelspec": {
   "display_name": "Python 3",
   "language": "python",
   "name": "python3"
  },
  "language_info": {
   "codemirror_mode": {
    "name": "ipython",
    "version": 3
   },
   "file_extension": ".py",
   "mimetype": "text/x-python",
   "name": "python",
   "nbconvert_exporter": "python",
   "pygments_lexer": "ipython3",
   "version": "3.9.5"
  },
  "orig_nbformat": 4,
  "vscode": {
   "interpreter": {
    "hash": "6f576643147e4b8cf152abb3cc999e302dc7167a7c41b51dd2e17d05f3cd1945"
   }
  }
 },
 "nbformat": 4,
 "nbformat_minor": 2
}
