{
 "cells": [
  {
   "cell_type": "code",
   "execution_count": 7,
   "metadata": {},
   "outputs": [],
   "source": [
    "from pathlib import Path\n",
    "import pandas as pd\n",
    "import numpy as np\n",
    "import nibabel as nb\n",
    "import SUITPy as suit\n",
    "import matplotlib.pyplot as plt\n",
    "import seaborn as sb\n",
    "import Functional_Fusion.atlas_map as am\n",
    "from Functional_Fusion.dataset import *\n",
    "import Functional_Fusion.matrix as matrix\n",
    "import pickle\n",
    "import sys\n",
    "sys.path.append(\"..\")\n",
    "from generativeMRF.evaluation import align_models\n",
    "from ProbabilisticParcellation.util import *\n",
    "import ProbabilisticParcellation.parcel_hierarchy as ph\n",
    "from Functional_Fusion.dataset import * \n",
    "import matplotlib.pyplot as plt\n",
    "\n",
    "base_dir = '/Volumes/diedrichsen_data$/data/FunctionalFusion'\n",
    "if not Path(base_dir).exists():\n",
    "    base_dir = '/srv/diedrichsen/data/FunctionalFusion'"
   ]
  },
  {
   "cell_type": "markdown",
   "metadata": {},
   "source": [
    "### K=10 parcellations "
   ]
  },
  {
   "cell_type": "code",
   "execution_count": null,
   "metadata": {},
   "outputs": [],
   "source": [
    "# Plot the parcellation\n",
    "Prop = np.array(model.marginal_prob())\n",
    "parcel = Prop.argmax(axis=0)+1\n",
    "atlas = split_mn[2][6:]\n",
    "\n",
    "ax = plot_data_flat(parcel,atlas,cmap = cmap,\n",
    "                    dtype='label',\n",
    "                    labels=labels,\n",
    "                    render='plotly')\n",
    "ax.show()"
   ]
  },
  {
   "cell_type": "code",
   "execution_count": 8,
   "metadata": {},
   "outputs": [
    {
     "ename": "AttributeError",
     "evalue": "'FullMultiModel' object has no attribute 'emission'",
     "output_type": "error",
     "traceback": [
      "\u001b[0;31m---------------------------------------------------------------------------\u001b[0m",
      "\u001b[0;31mAttributeError\u001b[0m                            Traceback (most recent call last)",
      "Cell \u001b[0;32mIn [8], line 7\u001b[0m\n\u001b[1;32m      1\u001b[0m models_01 \u001b[39m=\u001b[39m [\u001b[39m'\u001b[39m\u001b[39mModels_01/asym_Md_space-MNISymC3_K-10\u001b[39m\u001b[39m'\u001b[39m,\n\u001b[1;32m      2\u001b[0m                   \u001b[39m'\u001b[39m\u001b[39mModels_01/asym_Po_space-MNISymC3_K-10\u001b[39m\u001b[39m'\u001b[39m,\n\u001b[1;32m      3\u001b[0m                   \u001b[39m'\u001b[39m\u001b[39mModels_01/asym_Ni_space-MNISymC3_K-10\u001b[39m\u001b[39m'\u001b[39m,\n\u001b[1;32m      4\u001b[0m                   \u001b[39m'\u001b[39m\u001b[39mModels_01/asym_Ib_space-MNISymC3_K-10\u001b[39m\u001b[39m'\u001b[39m,\n\u001b[1;32m      5\u001b[0m                   \u001b[39m'\u001b[39m\u001b[39mModels_01/asym_MdPoNiIb_space-MNISymC3_K-10\u001b[39m\u001b[39m'\u001b[39m]\n\u001b[1;32m      6\u001b[0m fig \u001b[39m=\u001b[39m plt\u001b[39m.\u001b[39mfigure(figsize\u001b[39m=\u001b[39m(\u001b[39m20\u001b[39m,\u001b[39m10\u001b[39m))\n\u001b[0;32m----> 7\u001b[0m plot_model_parcel(models_01,[\u001b[39m2\u001b[39;49m,\u001b[39m3\u001b[39;49m])\n",
      "File \u001b[0;32m~/Python/ProbabilisticParcellation/util.py:186\u001b[0m, in \u001b[0;36mplot_model_parcel\u001b[0;34m(model_names, grid, cmap, align)\u001b[0m\n\u001b[1;32m    184\u001b[0m     Prob \u001b[39m=\u001b[39m ev\u001b[39m.\u001b[39malign_models(models,in_place\u001b[39m=\u001b[39m\u001b[39mFalse\u001b[39;00m)\n\u001b[1;32m    185\u001b[0m \u001b[39melse\u001b[39;00m: \n\u001b[0;32m--> 186\u001b[0m     Prob \u001b[39m=\u001b[39m ev\u001b[39m.\u001b[39;49mextract_marginal_prob(models)\n\u001b[1;32m    188\u001b[0m parc \u001b[39m=\u001b[39m np\u001b[39m.\u001b[39margmax(Prob,axis\u001b[39m=\u001b[39m\u001b[39m1\u001b[39m)\u001b[39m+\u001b[39m\u001b[39m1\u001b[39m\n\u001b[1;32m    191\u001b[0m plot_multi_flat(parc,atlas,grid\u001b[39m=\u001b[39mgrid,\n\u001b[1;32m    192\u001b[0m                  cmap\u001b[39m=\u001b[39mcmap,\n\u001b[1;32m    193\u001b[0m                  titles\u001b[39m=\u001b[39mtitles)\n",
      "File \u001b[0;32m~/Python/generativeMRF/evaluation.py:592\u001b[0m, in \u001b[0;36mextract_marginal_prob\u001b[0;34m(models)\u001b[0m\n\u001b[1;32m    590\u001b[0m n_models \u001b[39m=\u001b[39m \u001b[39mlen\u001b[39m(models)\n\u001b[1;32m    591\u001b[0m K \u001b[39m=\u001b[39m models[\u001b[39m0\u001b[39m]\u001b[39m.\u001b[39memissions[\u001b[39m0\u001b[39m]\u001b[39m.\u001b[39mK\n\u001b[0;32m--> 592\u001b[0m n_vox \u001b[39m=\u001b[39m models[\u001b[39m0\u001b[39;49m]\u001b[39m.\u001b[39;49memission[\u001b[39m0\u001b[39m]\u001b[39m.\u001b[39mP\n\u001b[1;32m    594\u001b[0m \u001b[39m# Intialize data arrays\u001b[39;00m\n\u001b[1;32m    595\u001b[0m Prob \u001b[39m=\u001b[39m pt\u001b[39m.\u001b[39mzeros((n_models,K,n_vox))\n",
      "\u001b[0;31mAttributeError\u001b[0m: 'FullMultiModel' object has no attribute 'emission'"
     ]
    },
    {
     "data": {
      "text/plain": [
       "<Figure size 2000x1000 with 0 Axes>"
      ]
     },
     "metadata": {},
     "output_type": "display_data"
    }
   ],
   "source": [
    "models_01 = ['Models_01/asym_Md_space-MNISymC3_K-10',\n",
    "                  'Models_01/asym_Po_space-MNISymC3_K-10',\n",
    "                  'Models_01/asym_Ni_space-MNISymC3_K-10',\n",
    "                  'Models_01/asym_Ib_space-MNISymC3_K-10',\n",
    "                  'Models_01/asym_MdPoNiIb_space-MNISymC3_K-10']\n",
    "fig = plt.figure(figsize=(20,10))\n",
    "plot_model_parcel(models_01,[2,3])"
   ]
  },
  {
   "cell_type": "code",
   "execution_count": null,
   "metadata": {},
   "outputs": [],
   "source": [
    "models_01 = ['Models_04/asym_Md_space-MNISymC3_K-10',\n",
    "                  'Models_04/asym_Po_space-MNISymC3_K-10',\n",
    "                  'Models_04/asym_Ni_space-MNISymC3_K-10',\n",
    "                  'Models_04/asym_Ib_space-MNISymC3_K-10',\n",
    "                  'Models_04/asym_MdPoNiIb_space-MNISymC3_K-10']\n",
    "fig = plt.figure(figsize=(20,10))\n",
    "plot_model_parcel(models_01,[2,3])"
   ]
  },
  {
   "cell_type": "code",
   "execution_count": null,
   "metadata": {},
   "outputs": [],
   "source": [
    "model_name = ['Models_04/asym_Md_space-MNISymC3_K-10',\n",
    "                  'asym_Po_space-MNISymC3_K-10',\n",
    "                  'asym_Ni_space-MNISymC3_K-10',\n",
    "                  'asym_Ib_space-MNISymC3_K-10',\n",
    "                  'asym_MdPoNiIb_space-MNISymC3_K-10']\n",
    "fig = plt.figure(figsize=(20,10))\n",
    "plot_model_parcel(model_name,[2,3])"
   ]
  }
 ],
 "metadata": {
  "kernelspec": {
   "display_name": "Python 3.9.10 ('env': venv)",
   "language": "python",
   "name": "python3"
  },
  "language_info": {
   "codemirror_mode": {
    "name": "ipython",
    "version": 3
   },
   "file_extension": ".py",
   "mimetype": "text/x-python",
   "name": "python",
   "nbconvert_exporter": "python",
   "pygments_lexer": "ipython3",
   "version": "3.9.10"
  },
  "orig_nbformat": 4,
  "vscode": {
   "interpreter": {
    "hash": "ada2fd52d6ac32fcf5e8803018c2f43562b37c28c37c44c36db39abfd618d678"
   }
  }
 },
 "nbformat": 4,
 "nbformat_minor": 2
}
