{
 "cells": [
  {
   "attachments": {},
   "cell_type": "markdown",
   "metadata": {
    "collapsed": true
   },
   "source": [
    "# Plot colorbars for paper"
   ]
  },
  {
   "cell_type": "code",
   "execution_count": 7,
   "metadata": {},
   "outputs": [],
   "source": [
    "import ProbabilisticParcellation.evaluate as ev\n",
    "import ProbabilisticParcellation.util as ut\n",
    "import ProbabilisticParcellation.export_atlas as ea\n",
    "import ProbabilisticParcellation.hierarchical_clustering as hc\n",
    "import ProbabilisticParcellation.scripts.atlas_paper.evaluate_atlas as eva\n",
    "import Functional_Fusion.dataset as ds\n",
    "import matplotlib\n",
    "import matplotlib.pyplot as plt\n",
    "import matplotlib.colors as col\n",
    "import seaborn as sb\n",
    "import SUITPy as suit\n",
    "import nitools as nt\n",
    "import nibabel as nb\n",
    "import numpy as np\n",
    "import nilearn.plotting.cm as nicm\n",
    "import os"
   ]
  },
  {
   "cell_type": "code",
   "execution_count": 8,
   "metadata": {},
   "outputs": [],
   "source": [
    "suit_dir = ut.base_dir + '/Atlases/tpl-SUIT/'\n"
   ]
  },
  {
   "cell_type": "code",
   "execution_count": 9,
   "metadata": {},
   "outputs": [],
   "source": [
    "figsize = (8, 8)\n",
    "_, cmap, labels = nt.read_lut(suit_dir +\n",
    "                              'atl-NettekovenSym32.lut')"
   ]
  },
  {
   "cell_type": "code",
   "execution_count": 10,
   "metadata": {},
   "outputs": [
    {
     "data": {
      "image/png": "[encoded data removed]",
      "text/plain": [
       "<Figure size 1000x200 with 1 Axes>"
      ]
     },
     "metadata": {},
     "output_type": "display_data"
    }
   ],
   "source": [
    "plt.figure(figsize=(10,2))\n",
    "ax=plt.subplot(111)\n",
    "ax.set_xlim(0,160)\n",
    "ax.set_ylim(-1,1)\n",
    "ax.set_axis_off()\n",
    "hc.draw_cmap(ax,col.ListedColormap(cmap*0.9), np.arange(16),sym=False,height=0.6)\n",
    "plt.savefig('Nettekoven_colorbar.pdf')"
   ]
  },
  {
   "attachments": {},
   "cell_type": "markdown",
   "metadata": {},
   "source": [
    "# Inferno, reds color bars"
   ]
  },
  {
   "cell_type": "code",
   "execution_count": 11,
   "metadata": {},
   "outputs": [
    {
     "name": "stderr",
     "output_type": "stream",
     "text": [
      "/var/folders/y1/13zjm1t50ms6ds24c69y7vx40000gn/T/ipykernel_12749/4093934729.py:17: UserWarning: FixedFormatter should only be used together with FixedLocator\n",
      "  cb1.ax.set_xticklabels(ticks, rotation=-90, fontsize=20)\n"
     ]
    },
    {
     "data": {
      "image/png": "[encoded data removed]",
      "text/plain": [
       "<Figure size 1000x200 with 1 Axes>"
      ]
     },
     "metadata": {},
     "output_type": "display_data"
    }
   ],
   "source": [
    "# get inferno color map\n",
    "cmap = matplotlib.cm.get_cmap('inferno')\n",
    "\n",
    "plt.figure(figsize=(10, 2))\n",
    "ax = plt.subplot(111)\n",
    "ax.set_xlim(0, 1.0)\n",
    "ax.set_ylim(-1, 1)\n",
    "# ax.set_axis_off()\n",
    "norm = matplotlib.colors.Normalize(vmin=0, vmax=1)\n",
    "cb1 = matplotlib.colorbar.ColorbarBase(ax, cmap=cmap,\n",
    "                                norm=norm,\n",
    "                                spacing='proportional',\n",
    "                                orientation='horizontal')\n",
    "# Rotate ticks by 90 degrees\n",
    "# Get xticklabels and make ticks bigger\n",
    "ticks = cb1.ax.get_xticklabels()\n",
    "cb1.ax.set_xticklabels(ticks, rotation=-90, fontsize=20)\n",
    "plt.savefig(ut.figure_dir + 'colorbar_inferno.pdf',\n",
    "            dpi=300, bbox_inches=\"tight\")\n"
   ]
  }
 ],
 "metadata": {
  "kernelspec": {
   "display_name": "Python 3",
   "language": "python",
   "name": "python3"
  },
  "language_info": {
   "codemirror_mode": {
    "name": "ipython",
    "version": 3
   },
   "file_extension": ".py",
   "mimetype": "text/x-python",
   "name": "python",
   "nbconvert_exporter": "python",
   "pygments_lexer": "ipython3",
   "version": "3.9.5"
  },
  "vscode": {
   "interpreter": {
    "hash": "6f576643147e4b8cf152abb3cc999e302dc7167a7c41b51dd2e17d05f3cd1945"
   }
  }
 },
 "nbformat": 4,
 "nbformat_minor": 1
}
