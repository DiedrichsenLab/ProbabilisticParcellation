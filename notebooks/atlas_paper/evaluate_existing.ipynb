{
 "cells": [
  {
   "attachments": {},
   "cell_type": "markdown",
   "metadata": {},
   "source": [
    "# DCBC model evaluation"
   ]
  },
  {
   "cell_type": "code",
   "execution_count": 1,
   "metadata": {},
   "outputs": [],
   "source": [
    "import ProbabilisticParcellation.evaluate as ev\n",
    "import ProbabilisticParcellation.util as ut\n",
    "import ProbabilisticParcellation.functional_profiles as fp\n",
    "import Functional_Fusion.dataset as ds\n",
    "import matplotlib.pyplot as plt\n",
    "import seaborn as sb\n",
    "import pandas as pd\n",
    "from scipy import stats\n",
    "import glob\n",
    "import numpy as np\n",
    "import os"
   ]
  },
  {
   "cell_type": "code",
   "execution_count": 2,
   "metadata": {},
   "outputs": [],
   "source": [
    "Data = pd.read_csv(\n",
    "    f'{ut.model_dir}/Models/Evaluation/eval_atlas_existing_dist-40.tsv', sep='\\t')"
   ]
  },
  {
   "cell_type": "code",
   "execution_count": 3,
   "metadata": {},
   "outputs": [
    {
     "data": {
      "text/html": [
       "<div>\n",
       "<style scoped>\n",
       "    .dataframe tbody tr th:only-of-type {\n",
       "        vertical-align: middle;\n",
       "    }\n",
       "\n",
       "    .dataframe tbody tr th {\n",
       "        vertical-align: top;\n",
       "    }\n",
       "\n",
       "    .dataframe thead th {\n",
       "        text-align: right;\n",
       "    }\n",
       "</style>\n",
       "<table border=\"1\" class=\"dataframe\">\n",
       "  <thead>\n",
       "    <tr style=\"text-align: right;\">\n",
       "      <th></th>\n",
       "      <th>atlas_name</th>\n",
       "      <th>K</th>\n",
       "      <th>subj_num</th>\n",
       "      <th>dcbc_group</th>\n",
       "      <th>test_data</th>\n",
       "    </tr>\n",
       "  </thead>\n",
       "  <tbody>\n",
       "    <tr>\n",
       "      <th>0</th>\n",
       "      <td>NettekovenAsym32</td>\n",
       "      <td>31</td>\n",
       "      <td>0</td>\n",
       "      <td>0.083966</td>\n",
       "      <td>MDTB</td>\n",
       "    </tr>\n",
       "    <tr>\n",
       "      <th>1</th>\n",
       "      <td>NettekovenAsym32</td>\n",
       "      <td>31</td>\n",
       "      <td>1</td>\n",
       "      <td>0.069000</td>\n",
       "      <td>MDTB</td>\n",
       "    </tr>\n",
       "    <tr>\n",
       "      <th>2</th>\n",
       "      <td>NettekovenAsym32</td>\n",
       "      <td>31</td>\n",
       "      <td>2</td>\n",
       "      <td>0.049437</td>\n",
       "      <td>MDTB</td>\n",
       "    </tr>\n",
       "    <tr>\n",
       "      <th>3</th>\n",
       "      <td>NettekovenAsym32</td>\n",
       "      <td>31</td>\n",
       "      <td>3</td>\n",
       "      <td>0.185517</td>\n",
       "      <td>MDTB</td>\n",
       "    </tr>\n",
       "    <tr>\n",
       "      <th>4</th>\n",
       "      <td>NettekovenAsym32</td>\n",
       "      <td>31</td>\n",
       "      <td>4</td>\n",
       "      <td>0.080753</td>\n",
       "      <td>MDTB</td>\n",
       "    </tr>\n",
       "  </tbody>\n",
       "</table>\n",
       "</div>"
      ],
      "text/plain": [
       "         atlas_name   K  subj_num  dcbc_group test_data\n",
       "0  NettekovenAsym32  31         0    0.083966      MDTB\n",
       "1  NettekovenAsym32  31         1    0.069000      MDTB\n",
       "2  NettekovenAsym32  31         2    0.049437      MDTB\n",
       "3  NettekovenAsym32  31         3    0.185517      MDTB\n",
       "4  NettekovenAsym32  31         4    0.080753      MDTB"
      ]
     },
     "execution_count": 3,
     "metadata": {},
     "output_type": "execute_result"
    }
   ],
   "source": [
    "Data = Data[Data['test_data'] != 'HCP']\n",
    "Data = Data.drop(columns=['space'])\n",
    "Data.head()"
   ]
  },
  {
   "cell_type": "code",
   "execution_count": 4,
   "metadata": {},
   "outputs": [
    {
     "data": {
      "image/png": "[encoded data removed]",
      "text/plain": [
       "<Figure size 648x72 with 1 Axes>"
      ]
     },
     "metadata": {
      "needs_background": "light"
     },
     "output_type": "display_data"
    },
    {
     "data": {
      "image/png": "[encoded data removed]",
      "text/plain": [
       "<Figure size 4536x72 with 1 Axes>"
      ]
     },
     "metadata": {
      "needs_background": "light"
     },
     "output_type": "display_data"
    }
   ],
   "source": [
    "atlas_order = ['Anatom', 'Buckner7', 'Ji10', 'Buckner17', 'MDTB10', 'NettekovenSym32', 'NettekovenAsym32', 'NettekovenSym68', 'NettekovenAsym68']\n",
    "# Order atlas_name column by atlas_order\n",
    "Data['atlas_name'] = pd.Categorical(Data['atlas_name'], atlas_order)\n",
    "\n",
    "# -- Colour palette --\n",
    "# Define the base color palette with 9 colors, grouped by atlas type:\n",
    "# anatomical (blue), resting-state (3 shades of red), MDTB (green), and Nettekoven (4 shades of orange)\n",
    "base_palette = [\n",
    "    \"#63B4E5\",  # Light Blue\n",
    "    \"#FF8D7F\",  # Light Red\n",
    "    \"#FF6554\",  # Medium Red\n",
    "    \"#D14231\",  # Dark Red\n",
    "    \"#A2D876\",  # Light Green\n",
    "    \"#FFBB68\",  # Light Orange\n",
    "    \"#FF9953\",  # Medium Orange\n",
    "    \"#FF7B3B\",  # Dark Orange\n",
    "    \"#FF5E1A\"   # Deep Orange\n",
    "]\n",
    "\n",
    "# Create a cpalette\n",
    "color_palette = sb.color_palette(base_palette)\n",
    "\n",
    "# Create a colour palette with test_data length entries\n",
    "color_palette_hue = [col for color in base_palette for col in [color] * len(Data['test_data'].unique())]\n",
    "color_palette_hue = sb.color_palette(color_palette_hue)\n",
    "\n",
    "# Display the color palette\n",
    "sb.palplot(color_palette)\n",
    "sb.palplot(color_palette_hue)"
   ]
  },
  {
   "cell_type": "markdown",
   "metadata": {},
   "source": [
    "## Average across subjects "
   ]
  },
  {
   "cell_type": "code",
   "execution_count": 5,
   "metadata": {},
   "outputs": [
    {
     "data": {
      "image/png": "[encoded data removed]",
      "text/plain": [
       "<Figure size 1440x360 with 1 Axes>"
      ]
     },
     "metadata": {
      "needs_background": "light"
     },
     "output_type": "display_data"
    }
   ],
   "source": [
    "plt.figure(figsize=(20, 5))\n",
    "ax = sb.barplot(data=Data, x='atlas_name', y='dcbc_group', palette=color_palette)\n",
    "for p in ax.patches:\n",
    "    height = p.get_height()\n",
    "    ax.annotate(f'{height:.5f}', (p.get_x() + p.get_width() / 2., height),\n",
    "                ha='center', va='center', xytext=(0, -50), textcoords='offset points')\n",
    "\n"
   ]
  },
  {
   "cell_type": "code",
   "execution_count": 6,
   "metadata": {},
   "outputs": [
    {
     "data": {
      "text/html": [
       "<div>\n",
       "<style scoped>\n",
       "    .dataframe tbody tr th:only-of-type {\n",
       "        vertical-align: middle;\n",
       "    }\n",
       "\n",
       "    .dataframe tbody tr th {\n",
       "        vertical-align: top;\n",
       "    }\n",
       "\n",
       "    .dataframe thead th {\n",
       "        text-align: right;\n",
       "    }\n",
       "</style>\n",
       "<table border=\"1\" class=\"dataframe\">\n",
       "  <thead>\n",
       "    <tr style=\"text-align: right;\">\n",
       "      <th></th>\n",
       "      <th>atlas_name</th>\n",
       "      <th>K</th>\n",
       "      <th>subj_num</th>\n",
       "      <th>dcbc_group</th>\n",
       "    </tr>\n",
       "  </thead>\n",
       "  <tbody>\n",
       "    <tr>\n",
       "      <th>7</th>\n",
       "      <td>NettekovenSym68</td>\n",
       "      <td>61.0</td>\n",
       "      <td>10.801802</td>\n",
       "      <td>0.123167</td>\n",
       "    </tr>\n",
       "    <tr>\n",
       "      <th>8</th>\n",
       "      <td>NettekovenAsym68</td>\n",
       "      <td>64.0</td>\n",
       "      <td>10.801802</td>\n",
       "      <td>0.115538</td>\n",
       "    </tr>\n",
       "    <tr>\n",
       "      <th>6</th>\n",
       "      <td>NettekovenAsym32</td>\n",
       "      <td>31.0</td>\n",
       "      <td>10.801802</td>\n",
       "      <td>0.108615</td>\n",
       "    </tr>\n",
       "    <tr>\n",
       "      <th>4</th>\n",
       "      <td>MDTB10</td>\n",
       "      <td>149.0</td>\n",
       "      <td>10.801802</td>\n",
       "      <td>0.106141</td>\n",
       "    </tr>\n",
       "    <tr>\n",
       "      <th>1</th>\n",
       "      <td>Buckner7</td>\n",
       "      <td>83.0</td>\n",
       "      <td>10.801802</td>\n",
       "      <td>0.098202</td>\n",
       "    </tr>\n",
       "    <tr>\n",
       "      <th>5</th>\n",
       "      <td>NettekovenSym32</td>\n",
       "      <td>31.0</td>\n",
       "      <td>10.801802</td>\n",
       "      <td>0.098108</td>\n",
       "    </tr>\n",
       "    <tr>\n",
       "      <th>2</th>\n",
       "      <td>Ji10</td>\n",
       "      <td>573.0</td>\n",
       "      <td>10.801802</td>\n",
       "      <td>0.097565</td>\n",
       "    </tr>\n",
       "    <tr>\n",
       "      <th>3</th>\n",
       "      <td>Buckner17</td>\n",
       "      <td>149.0</td>\n",
       "      <td>10.801802</td>\n",
       "      <td>0.095514</td>\n",
       "    </tr>\n",
       "    <tr>\n",
       "      <th>0</th>\n",
       "      <td>Anatom</td>\n",
       "      <td>44.0</td>\n",
       "      <td>10.801802</td>\n",
       "      <td>0.038991</td>\n",
       "    </tr>\n",
       "  </tbody>\n",
       "</table>\n",
       "</div>"
      ],
      "text/plain": [
       "         atlas_name      K   subj_num  dcbc_group\n",
       "7   NettekovenSym68   61.0  10.801802    0.123167\n",
       "8  NettekovenAsym68   64.0  10.801802    0.115538\n",
       "6  NettekovenAsym32   31.0  10.801802    0.108615\n",
       "4            MDTB10  149.0  10.801802    0.106141\n",
       "1          Buckner7   83.0  10.801802    0.098202\n",
       "5   NettekovenSym32   31.0  10.801802    0.098108\n",
       "2              Ji10  573.0  10.801802    0.097565\n",
       "3         Buckner17  149.0  10.801802    0.095514\n",
       "0            Anatom   44.0  10.801802    0.038991"
      ]
     },
     "execution_count": 6,
     "metadata": {},
     "output_type": "execute_result"
    }
   ],
   "source": [
    "Data.drop(columns=['test_data']).groupby('atlas_name').mean().reset_index().sort_values(by='dcbc_group', ascending=False)"
   ]
  },
  {
   "cell_type": "markdown",
   "metadata": {},
   "source": [
    "## Looking at differences between test datasets"
   ]
  },
  {
   "cell_type": "code",
   "execution_count": 7,
   "metadata": {},
   "outputs": [
    {
     "data": {
      "text/plain": [
       "<Axes: xlabel='test_data', ylabel='dcbc_group'>"
      ]
     },
     "execution_count": 7,
     "metadata": {},
     "output_type": "execute_result"
    },
    {
     "data": {
      "image/png": "[encoded data removed]",
      "text/plain": [
       "<Figure size 1440x360 with 1 Axes>"
      ]
     },
     "metadata": {
      "needs_background": "light"
     },
     "output_type": "display_data"
    }
   ],
   "source": [
    "# repeat each entry of times the number of test_data entries \n",
    "plt.figure(figsize=(20, 5))\n",
    "sb.barplot(data=Data, x='test_data', y='dcbc_group', hue='atlas_name', palette=color_palette)\n",
    "\n"
   ]
  },
  {
   "cell_type": "code",
   "execution_count": 44,
   "metadata": {},
   "outputs": [
    {
     "data": {
      "text/html": [
       "<div>\n",
       "<style scoped>\n",
       "    .dataframe tbody tr th:only-of-type {\n",
       "        vertical-align: middle;\n",
       "    }\n",
       "\n",
       "    .dataframe tbody tr th {\n",
       "        vertical-align: top;\n",
       "    }\n",
       "\n",
       "    .dataframe thead th {\n",
       "        text-align: right;\n",
       "    }\n",
       "</style>\n",
       "<table border=\"1\" class=\"dataframe\">\n",
       "  <thead>\n",
       "    <tr style=\"text-align: right;\">\n",
       "      <th></th>\n",
       "      <th>atlas_name</th>\n",
       "      <th>test_data</th>\n",
       "      <th>K</th>\n",
       "      <th>subj_num</th>\n",
       "      <th>dcbc_group</th>\n",
       "    </tr>\n",
       "  </thead>\n",
       "  <tbody>\n",
       "    <tr>\n",
       "      <th>0</th>\n",
       "      <td>Anatom</td>\n",
       "      <td>Demand</td>\n",
       "      <td>44.0</td>\n",
       "      <td>18.0</td>\n",
       "      <td>0.032431</td>\n",
       "    </tr>\n",
       "    <tr>\n",
       "      <th>1</th>\n",
       "      <td>Anatom</td>\n",
       "      <td>IBC</td>\n",
       "      <td>44.0</td>\n",
       "      <td>5.5</td>\n",
       "      <td>0.034078</td>\n",
       "    </tr>\n",
       "    <tr>\n",
       "      <th>2</th>\n",
       "      <td>Anatom</td>\n",
       "      <td>MDTB</td>\n",
       "      <td>44.0</td>\n",
       "      <td>11.5</td>\n",
       "      <td>0.027264</td>\n",
       "    </tr>\n",
       "    <tr>\n",
       "      <th>3</th>\n",
       "      <td>Anatom</td>\n",
       "      <td>Nishimoto</td>\n",
       "      <td>44.0</td>\n",
       "      <td>2.5</td>\n",
       "      <td>0.031941</td>\n",
       "    </tr>\n",
       "    <tr>\n",
       "      <th>4</th>\n",
       "      <td>Anatom</td>\n",
       "      <td>Pontine</td>\n",
       "      <td>44.0</td>\n",
       "      <td>3.5</td>\n",
       "      <td>0.028204</td>\n",
       "    </tr>\n",
       "  </tbody>\n",
       "</table>\n",
       "</div>"
      ],
      "text/plain": [
       "  atlas_name  test_data     K  subj_num  dcbc_group\n",
       "0     Anatom     Demand  44.0      18.0    0.032431\n",
       "1     Anatom        IBC  44.0       5.5    0.034078\n",
       "2     Anatom       MDTB  44.0      11.5    0.027264\n",
       "3     Anatom  Nishimoto  44.0       2.5    0.031941\n",
       "4     Anatom    Pontine  44.0       3.5    0.028204"
      ]
     },
     "execution_count": 44,
     "metadata": {},
     "output_type": "execute_result"
    }
   ],
   "source": [
    "Data_mean = Data.groupby(['atlas_name', 'test_data']).mean().reset_index()\n",
    "Data_mean.head()\n"
   ]
  },
  {
   "cell_type": "code",
   "execution_count": 81,
   "metadata": {},
   "outputs": [
    {
     "data": {
      "image/png": "[encoded data removed]",
      "text/plain": [
       "<Figure size 2000x500 with 1 Axes>"
      ]
     },
     "metadata": {},
     "output_type": "display_data"
    }
   ],
   "source": [
    "plt.figure(figsize=(20, 5))\n",
    "ax = sb.barplot(data=Data_mean, x='atlas_name', y='dcbc_group', palette=color_palette)\n",
    "# Print the mean value of each bar above the bar\n",
    "for p in ax.patches:\n",
    "    height = p.get_height()\n",
    "    ax.annotate(f'{height:.5f}', (p.get_x() + p.get_width() / 2., height),\n",
    "                ha='center', va='center', xytext=(0, -75), textcoords='offset points')"
   ]
  },
  {
   "cell_type": "code",
   "execution_count": 55,
   "metadata": {},
   "outputs": [
    {
     "data": {
      "text/html": [
       "<div>\n",
       "<style scoped>\n",
       "    .dataframe tbody tr th:only-of-type {\n",
       "        vertical-align: middle;\n",
       "    }\n",
       "\n",
       "    .dataframe tbody tr th {\n",
       "        vertical-align: top;\n",
       "    }\n",
       "\n",
       "    .dataframe thead th {\n",
       "        text-align: right;\n",
       "    }\n",
       "</style>\n",
       "<table border=\"1\" class=\"dataframe\">\n",
       "  <thead>\n",
       "    <tr style=\"text-align: right;\">\n",
       "      <th></th>\n",
       "      <th>atlas_name</th>\n",
       "      <th>K</th>\n",
       "      <th>subj_num</th>\n",
       "      <th>dcbc_group</th>\n",
       "    </tr>\n",
       "  </thead>\n",
       "  <tbody>\n",
       "    <tr>\n",
       "      <th>7</th>\n",
       "      <td>NettekovenSym68</td>\n",
       "      <td>61.0</td>\n",
       "      <td>7.428571</td>\n",
       "      <td>0.105095</td>\n",
       "    </tr>\n",
       "    <tr>\n",
       "      <th>8</th>\n",
       "      <td>NettekovenAsym68</td>\n",
       "      <td>64.0</td>\n",
       "      <td>7.428571</td>\n",
       "      <td>0.103250</td>\n",
       "    </tr>\n",
       "    <tr>\n",
       "      <th>6</th>\n",
       "      <td>NettekovenAsym32</td>\n",
       "      <td>31.0</td>\n",
       "      <td>7.428571</td>\n",
       "      <td>0.094975</td>\n",
       "    </tr>\n",
       "    <tr>\n",
       "      <th>5</th>\n",
       "      <td>NettekovenSym32</td>\n",
       "      <td>31.0</td>\n",
       "      <td>7.428571</td>\n",
       "      <td>0.092830</td>\n",
       "    </tr>\n",
       "    <tr>\n",
       "      <th>4</th>\n",
       "      <td>MDTB10</td>\n",
       "      <td>149.0</td>\n",
       "      <td>7.428571</td>\n",
       "      <td>0.092517</td>\n",
       "    </tr>\n",
       "    <tr>\n",
       "      <th>3</th>\n",
       "      <td>Buckner17</td>\n",
       "      <td>149.0</td>\n",
       "      <td>7.428571</td>\n",
       "      <td>0.081645</td>\n",
       "    </tr>\n",
       "    <tr>\n",
       "      <th>1</th>\n",
       "      <td>Buckner7</td>\n",
       "      <td>83.0</td>\n",
       "      <td>7.428571</td>\n",
       "      <td>0.080810</td>\n",
       "    </tr>\n",
       "    <tr>\n",
       "      <th>2</th>\n",
       "      <td>Ji10</td>\n",
       "      <td>573.0</td>\n",
       "      <td>7.428571</td>\n",
       "      <td>0.078847</td>\n",
       "    </tr>\n",
       "    <tr>\n",
       "      <th>0</th>\n",
       "      <td>Anatom</td>\n",
       "      <td>44.0</td>\n",
       "      <td>7.428571</td>\n",
       "      <td>0.043920</td>\n",
       "    </tr>\n",
       "  </tbody>\n",
       "</table>\n",
       "</div>"
      ],
      "text/plain": [
       "         atlas_name      K  subj_num  dcbc_group\n",
       "7   NettekovenSym68   61.0  7.428571    0.105095\n",
       "8  NettekovenAsym68   64.0  7.428571    0.103250\n",
       "6  NettekovenAsym32   31.0  7.428571    0.094975\n",
       "5   NettekovenSym32   31.0  7.428571    0.092830\n",
       "4            MDTB10  149.0  7.428571    0.092517\n",
       "3         Buckner17  149.0  7.428571    0.081645\n",
       "1          Buckner7   83.0  7.428571    0.080810\n",
       "2              Ji10  573.0  7.428571    0.078847\n",
       "0            Anatom   44.0  7.428571    0.043920"
      ]
     },
     "execution_count": 55,
     "metadata": {},
     "output_type": "execute_result"
    }
   ],
   "source": [
    "Data_mean.drop(columns=['test_data']).groupby('atlas_name').mean().reset_index().sort_values(by='dcbc_group', ascending=False)\n",
    "\n"
   ]
  },
  {
   "cell_type": "markdown",
   "metadata": {},
   "source": [
    "# Statistics"
   ]
  },
  {
   "cell_type": "code",
   "execution_count": 66,
   "metadata": {},
   "outputs": [],
   "source": [
    "def print_ttest(x,y, paired=False):\n",
    "    \n",
    "    if paired:\n",
    "        result = stats.ttest_rel(x,y)\n",
    "        df= len(x) - 1\n",
    "    else:\n",
    "        result = stats.ttest_ind(x,y)\n",
    "        df= len(x) + len(y) - 2\n",
    "    # Print result formatted with p-value rounded to 5th decimal (df, p-value, t-value)\n",
    "    print(f't({df}) = {result[0]:.3f}, p = {result[1]:.5f}')\n",
    "    print(f'x = {np.mean(x):.5f} +/- {np.std(x):.3f}, y = {np.mean(y):.5f} +/- {np.std(y):.3f}')"
   ]
  },
  {
   "cell_type": "markdown",
   "metadata": {},
   "source": [
    "## MDTB 10 vs Nettekoven atlasses\n",
    "\n",
    "### paired t-test between each subject's DCBC for MDTB10 and Nettekoven atlas"
   ]
  },
  {
   "cell_type": "code",
   "execution_count": 67,
   "metadata": {},
   "outputs": [
    {
     "name": "stdout",
     "output_type": "stream",
     "text": [
      "\n",
      "NettekovenSym32 vs MDTB10\n",
      "t(110) = -2.657, p = 0.00907\n",
      "x = 0.09811 +/- 0.047, y = 0.10614 +/- 0.046\n",
      "\n",
      "NettekovenAsym32 vs MDTB10\n",
      "t(110) = 1.072, p = 0.28590\n",
      "x = 0.10861 +/- 0.052, y = 0.10614 +/- 0.046\n",
      "\n",
      "NettekovenSym68 vs MDTB10\n",
      "t(110) = 5.364, p = 0.00000\n",
      "x = 0.12317 +/- 0.060, y = 0.10614 +/- 0.046\n",
      "\n",
      "NettekovenAsym68 vs MDTB10\n",
      "t(110) = 3.545, p = 0.00058\n",
      "x = 0.11554 +/- 0.053, y = 0.10614 +/- 0.046\n"
     ]
    }
   ],
   "source": [
    "for new_atlas in ['NettekovenSym32', 'NettekovenAsym32', 'NettekovenSym68', 'NettekovenAsym68']:\n",
    "    x = Data[(Data['atlas_name'] == new_atlas)]['dcbc_group']\n",
    "    y = Data[(Data['atlas_name'] == 'MDTB10')]['dcbc_group']\n",
    "    print(f'\\n{new_atlas} vs MDTB10')\n",
    "    print_ttest(x,y, paired=True)\n",
    "\n",
    "    "
   ]
  },
  {
   "cell_type": "markdown",
   "metadata": {},
   "source": [
    "### independent t-test between each test dataset's average DCBC for MDTB10 and Nettekoven atlas"
   ]
  },
  {
   "cell_type": "code",
   "execution_count": 86,
   "metadata": {},
   "outputs": [
    {
     "name": "stdout",
     "output_type": "stream",
     "text": [
      "\n",
      "NettekovenSym32 vs MDTB10\n",
      "t(12) = 0.014, p = 0.98925\n",
      "x = 0.09283 +/- 0.043, y = 0.09252 +/- 0.035\n",
      "\n",
      "NettekovenAsym32 vs MDTB10\n",
      "t(12) = 0.106, p = 0.91753\n",
      "x = 0.09497 +/- 0.045, y = 0.09252 +/- 0.035\n",
      "\n",
      "NettekovenSym68 vs MDTB10\n",
      "t(12) = 0.519, p = 0.61335\n",
      "x = 0.10510 +/- 0.048, y = 0.09252 +/- 0.035\n",
      "\n",
      "NettekovenAsym68 vs MDTB10\n",
      "t(12) = 0.445, p = 0.66405\n",
      "x = 0.10325 +/- 0.047, y = 0.09252 +/- 0.035\n"
     ]
    }
   ],
   "source": [
    "for new_atlas in ['NettekovenSym32', 'NettekovenAsym32', 'NettekovenSym68', 'NettekovenAsym68']:\n",
    "    x = Data_mean[(Data_mean['atlas_name'] == new_atlas)]['dcbc_group']\n",
    "    y = Data_mean[(Data_mean['atlas_name'] == 'MDTB10')]['dcbc_group']\n",
    "    print(f'\\n{new_atlas} vs MDTB10')\n",
    "    print_ttest(x,y, paired=False)\n",
    "\n",
    "    "
   ]
  }
 ],
 "metadata": {
  "kernelspec": {
   "display_name": "Python 3",
   "language": "python",
   "name": "python3"
  },
  "language_info": {
   "codemirror_mode": {
    "name": "ipython",
    "version": 3
   },
   "file_extension": ".py",
   "mimetype": "text/x-python",
   "name": "python",
   "nbconvert_exporter": "python",
   "pygments_lexer": "ipython3",
   "version": "3.8.5"
  },
  "orig_nbformat": 4,
  "vscode": {
   "interpreter": {
    "hash": "6f576643147e4b8cf152abb3cc999e302dc7167a7c41b51dd2e17d05f3cd1945"
   }
  }
 },
 "nbformat": 4,
 "nbformat_minor": 2
}
