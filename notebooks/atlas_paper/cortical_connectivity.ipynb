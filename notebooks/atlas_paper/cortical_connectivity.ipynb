{
 "cells": [
  {
   "attachments": {},
   "cell_type": "markdown",
   "metadata": {
    "collapsed": true
   },
   "source": [
    "# Summary of cortical connectivity maps for parcels \n",
    "Note that most functionality for the estimation and summarizing \n",
    "cortical connectivity models in in ```cortical_cerebellar_connectivity``` repro "
   ]
  },
  {
   "cell_type": "code",
   "execution_count": 1,
   "metadata": {},
   "outputs": [],
   "source": [
    "from pathlib import Path\n",
    "import matplotlib.pyplot as plt\n",
    "import seaborn as sb\n",
    "import pandas as pd\n",
    "import cortico_cereb_connectivity as ccc\n",
    "import cortico_cereb_connectivity.scripts.script_summarize_weights as csw\n",
    "import ProbabilisticParcellation.util as ut\n",
    "\n",
    "conn_dir = ut.base_dir + '/Cerebellum/connectivity/maps/'\n"
   ]
  },
  {
   "attachments": {},
   "cell_type": "markdown",
   "metadata": {},
   "source": [
    "### Summarize the connectivity maps based on Cerebellar ROIs\n",
    "This produces the summarizing parcel files (pscalar.nii) in ```conn_dir```. \n"
   ]
  },
  {
   "cell_type": "code",
   "execution_count": 2,
   "metadata": {},
   "outputs": [
    {
     "name": "stderr",
     "output_type": "stream",
     "text": [
      "/Users/callithrix/code/Python/Functional_Fusion/dataset.py:172: RuntimeWarning: Mean of empty slice\n",
      "  parcel_data[..., i] = fcn(\n",
      "/Users/callithrix/code/Python/Functional_Fusion/dataset.py:172: RuntimeWarning: Mean of empty slice\n",
      "  parcel_data[..., i] = fcn(\n"
     ]
    }
   ],
   "source": [
    "csw.make_weight_map('Demand','A8')\n",
    "csw.make_weight_map('HCP','A-2')\n",
    "csw.make_weight_map('IBC','A6')\n",
    "csw.make_weight_map('MDTB','A8')\n",
    "csw.make_weight_map('Somatotopic','A8')\n",
    "csw.make_weight_map('WMFS','A8')\n",
    "csw.make_weight_map('Nishimoto','A10')\n",
    "csw.make_weight_map('Fusion','05')\n",
    "csw.make_weight_map('Fusion','06')"
   ]
  },
  {
   "cell_type": "markdown",
   "metadata": {},
   "source": [
    "### Summarize for MSHBM_Prior_15_fsLR32 networks"
   ]
  },
  {
   "cell_type": "code",
   "execution_count": 2,
   "metadata": {},
   "outputs": [],
   "source": [
    "T = csw.make_weight_table(dataset=\"Fusion\",extension=\"06\",cortical_roi=\"MSHBM_Prior_15_fsLR32\")"
   ]
  },
  {
   "cell_type": "code",
   "execution_count": 3,
   "metadata": {},
   "outputs": [
    {
     "data": {
      "text/html": [
       "<div>\n",
       "<style scoped>\n",
       "    .dataframe tbody tr th:only-of-type {\n",
       "        vertical-align: middle;\n",
       "    }\n",
       "\n",
       "    .dataframe tbody tr th {\n",
       "        vertical-align: top;\n",
       "    }\n",
       "\n",
       "    .dataframe thead th {\n",
       "        text-align: right;\n",
       "    }\n",
       "</style>\n",
       "<table border=\"1\" class=\"dataframe\">\n",
       "  <thead>\n",
       "    <tr style=\"text-align: right;\">\n",
       "      <th></th>\n",
       "      <th>cereb_region</th>\n",
       "      <th>fs_region</th>\n",
       "      <th>hemisphere</th>\n",
       "      <th>sizeR</th>\n",
       "      <th>totalW</th>\n",
       "      <th>weight</th>\n",
       "    </tr>\n",
       "  </thead>\n",
       "  <tbody>\n",
       "    <tr>\n",
       "      <th>0</th>\n",
       "      <td>M1L</td>\n",
       "      <td>VIS-P</td>\n",
       "      <td>L</td>\n",
       "      <td>2170</td>\n",
       "      <td>0.936911</td>\n",
       "      <td>0.000432</td>\n",
       "    </tr>\n",
       "    <tr>\n",
       "      <th>1</th>\n",
       "      <td>M2L</td>\n",
       "      <td>VIS-P</td>\n",
       "      <td>L</td>\n",
       "      <td>2170</td>\n",
       "      <td>0.356215</td>\n",
       "      <td>0.000164</td>\n",
       "    </tr>\n",
       "    <tr>\n",
       "      <th>2</th>\n",
       "      <td>M3L</td>\n",
       "      <td>VIS-P</td>\n",
       "      <td>L</td>\n",
       "      <td>2170</td>\n",
       "      <td>0.348928</td>\n",
       "      <td>0.000161</td>\n",
       "    </tr>\n",
       "    <tr>\n",
       "      <th>3</th>\n",
       "      <td>M4L</td>\n",
       "      <td>VIS-P</td>\n",
       "      <td>L</td>\n",
       "      <td>2170</td>\n",
       "      <td>0.213459</td>\n",
       "      <td>0.000098</td>\n",
       "    </tr>\n",
       "    <tr>\n",
       "      <th>4</th>\n",
       "      <td>A1L</td>\n",
       "      <td>VIS-P</td>\n",
       "      <td>L</td>\n",
       "      <td>2170</td>\n",
       "      <td>0.214959</td>\n",
       "      <td>0.000099</td>\n",
       "    </tr>\n",
       "    <tr>\n",
       "      <th>...</th>\n",
       "      <td>...</td>\n",
       "      <td>...</td>\n",
       "      <td>...</td>\n",
       "      <td>...</td>\n",
       "      <td>...</td>\n",
       "      <td>...</td>\n",
       "    </tr>\n",
       "    <tr>\n",
       "      <th>955</th>\n",
       "      <td>S1R</td>\n",
       "      <td>DN-A</td>\n",
       "      <td>R</td>\n",
       "      <td>2770</td>\n",
       "      <td>0.271686</td>\n",
       "      <td>0.000100</td>\n",
       "    </tr>\n",
       "    <tr>\n",
       "      <th>956</th>\n",
       "      <td>S2R</td>\n",
       "      <td>DN-A</td>\n",
       "      <td>R</td>\n",
       "      <td>2770</td>\n",
       "      <td>1.242887</td>\n",
       "      <td>0.000455</td>\n",
       "    </tr>\n",
       "    <tr>\n",
       "      <th>957</th>\n",
       "      <td>S3R</td>\n",
       "      <td>DN-A</td>\n",
       "      <td>R</td>\n",
       "      <td>2770</td>\n",
       "      <td>1.452248</td>\n",
       "      <td>0.000532</td>\n",
       "    </tr>\n",
       "    <tr>\n",
       "      <th>958</th>\n",
       "      <td>S4R</td>\n",
       "      <td>DN-A</td>\n",
       "      <td>R</td>\n",
       "      <td>2770</td>\n",
       "      <td>0.681247</td>\n",
       "      <td>0.000250</td>\n",
       "    </tr>\n",
       "    <tr>\n",
       "      <th>959</th>\n",
       "      <td>S5R</td>\n",
       "      <td>DN-A</td>\n",
       "      <td>R</td>\n",
       "      <td>2770</td>\n",
       "      <td>0.520686</td>\n",
       "      <td>0.000191</td>\n",
       "    </tr>\n",
       "  </tbody>\n",
       "</table>\n",
       "<p>960 rows × 6 columns</p>\n",
       "</div>"
      ],
      "text/plain": [
       "    cereb_region fs_region hemisphere  sizeR    totalW    weight\n",
       "0            M1L     VIS-P          L   2170  0.936911  0.000432\n",
       "1            M2L     VIS-P          L   2170  0.356215  0.000164\n",
       "2            M3L     VIS-P          L   2170  0.348928  0.000161\n",
       "3            M4L     VIS-P          L   2170  0.213459  0.000098\n",
       "4            A1L     VIS-P          L   2170  0.214959  0.000099\n",
       "..           ...       ...        ...    ...       ...       ...\n",
       "955          S1R      DN-A          R   2770  0.271686  0.000100\n",
       "956          S2R      DN-A          R   2770  1.242887  0.000455\n",
       "957          S3R      DN-A          R   2770  1.452248  0.000532\n",
       "958          S4R      DN-A          R   2770  0.681247  0.000250\n",
       "959          S5R      DN-A          R   2770  0.520686  0.000191\n",
       "\n",
       "[960 rows x 6 columns]"
      ]
     },
     "execution_count": 3,
     "metadata": {},
     "output_type": "execute_result"
    }
   ],
   "source": [
    "T"
   ]
  },
  {
   "cell_type": "code",
   "execution_count": 4,
   "metadata": {},
   "outputs": [
    {
     "data": {
      "image/png": "[encoded data removed]",
      "text/plain": [
       "<Figure size 1080x1080 with 1 Axes>"
      ]
     },
     "metadata": {
      "needs_background": "light"
     },
     "output_type": "display_data"
    }
   ],
   "source": [
    "# Generate a table of weights split by hemisphere \n",
    "W = pd.pivot_table(T,index='cereb_region', columns=['fs_region','hemisphere'], values='totalW')\n",
    "plt.figure(figsize=(15,15))\n",
    "plt.imshow(W.values,cmap='RdBu_r')\n",
    "ax=plt.gca()\n",
    "x1=ax.set_xticks(range(len(W.columns)))\n",
    "ax.set_xticklabels(W.columns,rotation=90)\n",
    "x2=ax.set_yticks(range(len(W.index)))\n",
    "ax.set_yticklabels(W.index)\n",
    "hlines = [5.5,13.5,21.5]\n",
    "vlines = [1.5,3.5,7.5,11.5,15.5,21.5,25.5,27.5]\n",
    "for h in hlines:\n",
    "    ax.axhline(h,color='k')\n",
    "for v in vlines:\n",
    "    ax.axvline(v,color='k')\n",
    "\n",
    "if Path(ut.figure_dir).exists():\n",
    "    plt.savefig(f'{ut.figure_dir}/cortical_connectivity_MSHBM15_hem.pdf')"
   ]
  },
  {
   "cell_type": "code",
   "execution_count": 6,
   "metadata": {},
   "outputs": [
    {
     "data": {
      "image/png": "[encoded data removed]",
      "text/plain": [
       "<Figure size 576x576 with 1 Axes>"
      ]
     },
     "metadata": {
      "needs_background": "light"
     },
     "output_type": "display_data"
    }
   ],
   "source": [
    "# Generate a table of weights\n",
    "T['cereb_region2'] = [c[:2] for c in T.cereb_region]\n",
    "W = pd.pivot_table(T,index='cereb_region2', columns='fs_region', values='weight',sort=False)\n",
    "\n",
    "# Order of resting state networks: \n",
    "networks = ['SMOT-A','SMOT-B','VIS-A','VIS-P','SMOT-C','dATN-A','dATN-B','CG-OP','FPN-A','FPN-B','SAL/PMN','DN-A','DN-B','LANG','AUD']\n",
    "W = W[networks]\n",
    "plt.figure(figsize=(8,8))\n",
    "plt.imshow(W.values,cmap='RdBu_r')\n",
    "ax=plt.gca()\n",
    "x1=ax.set_xticks(range(len(W.columns)))\n",
    "ax.set_xticklabels(labels=W.columns,rotation=90)\n",
    "x2=ax.set_yticks(range(len(W.index)))\n",
    "ax.set_yticklabels(labels=W.index)\n",
    "hlines = [3.5,6.5,10.5]\n",
    "vlines = [1.5,3.5,7.5,10.5,13.5,13.5]\n",
    "for h in hlines:\n",
    "    ax.axhline(h,color='k')\n",
    "for v in vlines:\n",
    "    ax.axvline(v,color='k')\n",
    "\n",
    "if Path(ut.figure_dir).exists():\n",
    "    plt.savefig(f'{ut.figure_dir}/cortical_connectivity_MSHBM15.pdf')\n",
    "else:\n",
    "    plt.savefig(\n",
    "        f'{ut.base_dir}/lost_and_found/cortical_connectivity_yeo.pdf')\n",
    "\n"
   ]
  },
  {
   "cell_type": "code",
   "execution_count": 21,
   "metadata": {},
   "outputs": [
    {
     "data": {
      "text/plain": [
       "pandas.core.frame.DataFrame"
      ]
     },
     "execution_count": 21,
     "metadata": {},
     "output_type": "execute_result"
    }
   ],
   "source": [
    "type(W)"
   ]
  }
 ],
 "metadata": {
  "kernelspec": {
   "display_name": "Python 3",
   "language": "python",
   "name": "python3"
  },
  "language_info": {
   "codemirror_mode": {
    "name": "ipython",
    "version": 3
   },
   "file_extension": ".py",
   "mimetype": "text/x-python",
   "name": "python",
   "nbconvert_exporter": "python",
   "pygments_lexer": "ipython3",
   "version": "3.8.5"
  },
  "vscode": {
   "interpreter": {
    "hash": "6f576643147e4b8cf152abb3cc999e302dc7167a7c41b51dd2e17d05f3cd1945"
   }
  }
 },
 "nbformat": 4,
 "nbformat_minor": 1
}
