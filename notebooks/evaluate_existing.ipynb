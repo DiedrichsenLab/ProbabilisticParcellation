{
 "cells": [
  {
   "attachments": {},
   "cell_type": "markdown",
   "metadata": {},
   "source": [
    "# DCBC model evaluation"
   ]
  },
  {
   "cell_type": "code",
   "execution_count": 1,
   "metadata": {},
   "outputs": [],
   "source": [
    "import ProbabilisticParcellation.evaluate_existing as ev\n",
    "import ProbabilisticParcellation.util as ut\n",
    "import ProbabilisticParcellation.functional_profiles as fp\n",
    "import Functional_Fusion.dataset as ds\n",
    "import matplotlib.pyplot as plt\n",
    "import seaborn as sb\n",
    "import pandas as pd\n",
    "from scipy import stats\n",
    "import glob\n",
    "import numpy as np\n",
    "import os"
   ]
  },
  {
   "cell_type": "markdown",
   "metadata": {},
   "source": [
    "## Produce or load results:"
   ]
  },
  {
   "cell_type": "code",
   "execution_count": 8,
   "metadata": {},
   "outputs": [
    {
     "data": {
      "text/html": [
       "<div>\n",
       "<style scoped>\n",
       "    .dataframe tbody tr th:only-of-type {\n",
       "        vertical-align: middle;\n",
       "    }\n",
       "\n",
       "    .dataframe tbody tr th {\n",
       "        vertical-align: top;\n",
       "    }\n",
       "\n",
       "    .dataframe thead th {\n",
       "        text-align: right;\n",
       "    }\n",
       "</style>\n",
       "<table border=\"1\" class=\"dataframe\">\n",
       "  <thead>\n",
       "    <tr style=\"text-align: right;\">\n",
       "      <th></th>\n",
       "      <th>atlas_name</th>\n",
       "      <th>K</th>\n",
       "      <th>subj_num</th>\n",
       "      <th>dcbc_group</th>\n",
       "      <th>test_data</th>\n",
       "    </tr>\n",
       "  </thead>\n",
       "  <tbody>\n",
       "    <tr>\n",
       "      <th>0</th>\n",
       "      <td>NettekovenAsym68</td>\n",
       "      <td>64</td>\n",
       "      <td>0</td>\n",
       "      <td>0.091580</td>\n",
       "      <td>MDTB</td>\n",
       "    </tr>\n",
       "    <tr>\n",
       "      <th>1</th>\n",
       "      <td>NettekovenAsym68</td>\n",
       "      <td>64</td>\n",
       "      <td>1</td>\n",
       "      <td>0.071558</td>\n",
       "      <td>MDTB</td>\n",
       "    </tr>\n",
       "    <tr>\n",
       "      <th>2</th>\n",
       "      <td>NettekovenAsym68</td>\n",
       "      <td>64</td>\n",
       "      <td>2</td>\n",
       "      <td>0.046350</td>\n",
       "      <td>MDTB</td>\n",
       "    </tr>\n",
       "    <tr>\n",
       "      <th>3</th>\n",
       "      <td>NettekovenAsym68</td>\n",
       "      <td>64</td>\n",
       "      <td>3</td>\n",
       "      <td>0.176457</td>\n",
       "      <td>MDTB</td>\n",
       "    </tr>\n",
       "    <tr>\n",
       "      <th>4</th>\n",
       "      <td>NettekovenAsym68</td>\n",
       "      <td>64</td>\n",
       "      <td>4</td>\n",
       "      <td>0.093350</td>\n",
       "      <td>MDTB</td>\n",
       "    </tr>\n",
       "  </tbody>\n",
       "</table>\n",
       "</div>"
      ],
      "text/plain": [
       "         atlas_name   K  subj_num  dcbc_group test_data\n",
       "0  NettekovenAsym68  64         0    0.091580      MDTB\n",
       "1  NettekovenAsym68  64         1    0.071558      MDTB\n",
       "2  NettekovenAsym68  64         2    0.046350      MDTB\n",
       "3  NettekovenAsym68  64         3    0.176457      MDTB\n",
       "4  NettekovenAsym68  64         4    0.093350      MDTB"
      ]
     },
     "execution_count": 8,
     "metadata": {},
     "output_type": "execute_result"
    }
   ],
   "source": [
    "rerun_results=False\n",
    "max_dist=40\n",
    "\n",
    "if rerun_results:\n",
    "    test_datasets_list = [0,1,2,3,4,5,6,7]\n",
    "    T = pd.read_csv(ut.base_dir + '/dataset_description.tsv', sep='\\t')\n",
    "    num_subj = T.return_nsubj.to_numpy()[test_datasets_list]\n",
    "    types = T.default_type.to_numpy()[test_datasets_list]\n",
    "    existing_atlasses = ['Anatom', 'Buckner7', 'Buckner17', 'Ji10', 'MDTB10']\n",
    "    fusion_atlasses = ['NettekovenAsym68', 'NettekovenSym68']\n",
    "\n",
    "    Data = ev.eval_atlas(fusion_atlasses + existing_atlasses,\n",
    "                t_datasets=T.name.to_numpy()[test_datasets_list],\n",
    "                type=types, max_dist=max_dist)\n",
    "    Data.to_csv(f'{ut.model_dir}/Models/Evaluation/nettekoven_68/eval_atlas_existing_dist-{max_dist}.tsv', sep='\\t', index=False)\n",
    "else:\n",
    "    Data = pd.read_csv(f'{ut.model_dir}/Models/Evaluation/nettekoven_68/eval_atlas_existing_dist-{max_dist}.tsv', sep='\\t')\n",
    "\n",
    "# Remove HCP test data\n",
    "Data = Data[Data['test_data'] != 'HCP']\n",
    "Data = Data.drop(columns=['space'])\n",
    "Data.head()"
   ]
  },
  {
   "cell_type": "code",
   "execution_count": 9,
   "metadata": {},
   "outputs": [],
   "source": [
    "# Formula for calculating statistics\n",
    "def print_ttest(x,y, paired=False):\n",
    "    \n",
    "    if paired:\n",
    "        result = stats.ttest_rel(x,y)\n",
    "        df= len(x) - 1\n",
    "    else:\n",
    "        result = stats.ttest_ind(x,y)\n",
    "        df= len(x) + len(y) - 2\n",
    "    \n",
    "    # Print results formatted with p-value rounded to 3rd decimal if larger than 0.001, otherwise scientific notation\n",
    "    if result[1] < 0.001:\n",
    "        print(f't({df}) = {result[0]:.3f}, p = {result[1]:.3e}')\n",
    "    else:\n",
    "        print(f't({df}) = {result[0]:.3f}, p = {result[1]:.3f}')\n",
    "    print(f'x = {np.mean(x):.5f} +/- {np.std(x):.3f}, y = {np.mean(y):.5f} +/- {np.std(y):.3f}')"
   ]
  },
  {
   "cell_type": "markdown",
   "metadata": {},
   "source": [
    "## Plots"
   ]
  },
  {
   "cell_type": "code",
   "execution_count": 10,
   "metadata": {},
   "outputs": [
    {
     "data": {
      "image/png": "[encoded data removed]",
      "text/plain": [
       "<Figure size 700x100 with 1 Axes>"
      ]
     },
     "metadata": {},
     "output_type": "display_data"
    }
   ],
   "source": [
    "atlas_order = ['Anatom', 'Buckner7', 'Ji10', 'Buckner17', 'MDTB10', 'NettekovenSym68', 'NettekovenAsym68']\n",
    "# Order atlas_name column by atlas_order\n",
    "Data['atlas_name'] = pd.Categorical(Data['atlas_name'], atlas_order)\n",
    "\n",
    "# -- Colour palette --\n",
    "# Define the base color palette with 9 colors, grouped by atlas type:\n",
    "# anatomical (blue), resting-state (3 shades of red), MDTB (green), and Nettekoven (4 shades of orange)\n",
    "base_palette = [\n",
    "    \"#63B4E5\",  # Light Blue\n",
    "    \"#FF8D7F\",  # Light Red\n",
    "    \"#FF6554\",  # Medium Red\n",
    "    \"#D14231\",  # Dark Red\n",
    "    \"#A2D876\",  # Light Green\n",
    "    \"#FFBB68\",  # Light Orange\n",
    "    \"#FF9953\",  # Medium Orange\n",
    "    # \"#FF7B3B\",  # Dark Orange\n",
    "    # \"#FF5E1A\"   # Deep Orange\n",
    "]\n",
    "\n",
    "# Create a cpalette\n",
    "color_palette = sb.color_palette(base_palette)\n",
    "\n",
    "# Display the color palette\n",
    "sb.palplot(color_palette)\n"
   ]
  },
  {
   "cell_type": "code",
   "execution_count": null,
   "metadata": {},
   "outputs": [],
   "source": [
    "plt.figure(figsize=(20, 5))\n",
    "ax = sb.barplot(data=Data, x='atlas_name', y='dcbc_group', palette=color_palette)\n",
    "for p in ax.patches:\n",
    "    height = p.get_height()\n",
    "    ax.annotate(f'{height:.5f}', (p.get_x() + p.get_width() / 2., height),\n",
    "                ha='center', va='center', xytext=(0, -50), textcoords='offset points')"
   ]
  },
  {
   "cell_type": "code",
   "execution_count": 30,
   "metadata": {},
   "outputs": [
    {
     "data": {
      "image/png": "[encoded data removed]",
      "text/plain": [
       "<Figure size 500x500 with 1 Axes>"
      ]
     },
     "metadata": {},
     "output_type": "display_data"
    }
   ],
   "source": [
    "plt.figure(figsize=(5,5))\n",
    "ax = sb.barplot(data=Data, x='atlas_name', y='dcbc_group', palette=color_palette)\n",
    "# Rotate labels 90 degrees\n",
    "ax.set_xticklabels(ax.get_xticklabels(), rotation=90)   \n",
    "plt.savefig(f'{ut.figure_dir}/eval_atlas_existing_dist-{max_dist}_dcbc_group.pdf', dpi=300, bbox_inches='tight')\n",
    "\n"
   ]
  },
  {
   "cell_type": "code",
   "execution_count": 12,
   "metadata": {},
   "outputs": [
    {
     "data": {
      "text/html": [
       "<div>\n",
       "<style scoped>\n",
       "    .dataframe tbody tr th:only-of-type {\n",
       "        vertical-align: middle;\n",
       "    }\n",
       "\n",
       "    .dataframe tbody tr th {\n",
       "        vertical-align: top;\n",
       "    }\n",
       "\n",
       "    .dataframe thead th {\n",
       "        text-align: right;\n",
       "    }\n",
       "</style>\n",
       "<table border=\"1\" class=\"dataframe\">\n",
       "  <thead>\n",
       "    <tr style=\"text-align: right;\">\n",
       "      <th></th>\n",
       "      <th>atlas_name</th>\n",
       "      <th>K</th>\n",
       "      <th>subj_num</th>\n",
       "      <th>dcbc_group</th>\n",
       "    </tr>\n",
       "  </thead>\n",
       "  <tbody>\n",
       "    <tr>\n",
       "      <th>5</th>\n",
       "      <td>NettekovenSym68</td>\n",
       "      <td>61.0</td>\n",
       "      <td>10.801802</td>\n",
       "      <td>0.123167</td>\n",
       "    </tr>\n",
       "    <tr>\n",
       "      <th>6</th>\n",
       "      <td>NettekovenAsym68</td>\n",
       "      <td>64.0</td>\n",
       "      <td>10.801802</td>\n",
       "      <td>0.115538</td>\n",
       "    </tr>\n",
       "    <tr>\n",
       "      <th>4</th>\n",
       "      <td>MDTB10</td>\n",
       "      <td>149.0</td>\n",
       "      <td>10.801802</td>\n",
       "      <td>0.106141</td>\n",
       "    </tr>\n",
       "    <tr>\n",
       "      <th>1</th>\n",
       "      <td>Buckner7</td>\n",
       "      <td>83.0</td>\n",
       "      <td>10.801802</td>\n",
       "      <td>0.098202</td>\n",
       "    </tr>\n",
       "    <tr>\n",
       "      <th>2</th>\n",
       "      <td>Ji10</td>\n",
       "      <td>573.0</td>\n",
       "      <td>10.801802</td>\n",
       "      <td>0.097565</td>\n",
       "    </tr>\n",
       "    <tr>\n",
       "      <th>3</th>\n",
       "      <td>Buckner17</td>\n",
       "      <td>149.0</td>\n",
       "      <td>10.801802</td>\n",
       "      <td>0.095514</td>\n",
       "    </tr>\n",
       "    <tr>\n",
       "      <th>0</th>\n",
       "      <td>Anatom</td>\n",
       "      <td>44.0</td>\n",
       "      <td>10.801802</td>\n",
       "      <td>0.038991</td>\n",
       "    </tr>\n",
       "  </tbody>\n",
       "</table>\n",
       "</div>"
      ],
      "text/plain": [
       "         atlas_name      K   subj_num  dcbc_group\n",
       "5   NettekovenSym68   61.0  10.801802    0.123167\n",
       "6  NettekovenAsym68   64.0  10.801802    0.115538\n",
       "4            MDTB10  149.0  10.801802    0.106141\n",
       "1          Buckner7   83.0  10.801802    0.098202\n",
       "2              Ji10  573.0  10.801802    0.097565\n",
       "3         Buckner17  149.0  10.801802    0.095514\n",
       "0            Anatom   44.0  10.801802    0.038991"
      ]
     },
     "execution_count": 12,
     "metadata": {},
     "output_type": "execute_result"
    }
   ],
   "source": [
    "Data.drop(columns=['test_data']).groupby('atlas_name').mean().reset_index().sort_values(by='dcbc_group', ascending=False)"
   ]
  },
  {
   "cell_type": "markdown",
   "metadata": {},
   "source": [
    "## MDTB 10 vs Nettekoven atlasses\n",
    "\n",
    "### paired t-test between each subject's DCBC for MDTB10 and Nettekoven atlas"
   ]
  },
  {
   "cell_type": "code",
   "execution_count": 13,
   "metadata": {},
   "outputs": [
    {
     "name": "stdout",
     "output_type": "stream",
     "text": [
      "\n",
      "NettekovenSym68 vs MDTB10\n",
      "t(110) = 5.364, p = 4.554e-07\n",
      "x = 0.12317 +/- 0.060, y = 0.10614 +/- 0.046\n",
      "\n",
      "NettekovenAsym68 vs MDTB10\n",
      "t(110) = 3.545, p = 5.788e-04\n",
      "x = 0.11554 +/- 0.053, y = 0.10614 +/- 0.046\n"
     ]
    }
   ],
   "source": [
    "for new_atlas in ['NettekovenSym68', 'NettekovenAsym68']:\n",
    "    x = Data[(Data['atlas_name'] == new_atlas)]['dcbc_group']\n",
    "    y = Data[(Data['atlas_name'] == 'MDTB10')]['dcbc_group']\n",
    "    print(f'\\n{new_atlas} vs MDTB10')\n",
    "    print_ttest(x,y, paired=True)\n",
    "\n",
    "    "
   ]
  },
  {
   "cell_type": "markdown",
   "metadata": {},
   "source": [
    "## Buckner7 vs Nettekoven atlasses"
   ]
  },
  {
   "cell_type": "code",
   "execution_count": 14,
   "metadata": {},
   "outputs": [
    {
     "name": "stdout",
     "output_type": "stream",
     "text": [
      "\n",
      "NettekovenSym68 vs Buckner7\n",
      "t(110) = 6.975, p = 2.409e-10\n",
      "x = 0.12317 +/- 0.060, y = 0.09820 +/- 0.047\n",
      "\n",
      "NettekovenAsym68 vs Buckner7\n",
      "t(110) = 4.690, p = 7.882e-06\n",
      "x = 0.11554 +/- 0.053, y = 0.09820 +/- 0.047\n"
     ]
    }
   ],
   "source": [
    "for new_atlas in ['NettekovenSym68', 'NettekovenAsym68']:\n",
    "    x = Data[(Data['atlas_name'] == new_atlas)]['dcbc_group']\n",
    "    y = Data[(Data['atlas_name'] == 'Buckner7')]['dcbc_group']\n",
    "    print(f'\\n{new_atlas} vs Buckner7')\n",
    "    print_ttest(x,y, paired=True)\n",
    "\n",
    "    "
   ]
  },
  {
   "cell_type": "markdown",
   "metadata": {},
   "source": [
    "## Buckner17 vs Nettekoven atlasses"
   ]
  },
  {
   "cell_type": "code",
   "execution_count": 15,
   "metadata": {},
   "outputs": [
    {
     "name": "stdout",
     "output_type": "stream",
     "text": [
      "\n",
      "NettekovenSym68 vs Buckner17\n",
      "t(110) = 7.954, p = 1.739e-12\n",
      "x = 0.12317 +/- 0.060, y = 0.09551 +/- 0.042\n",
      "\n",
      "NettekovenAsym68 vs Buckner17\n",
      "t(110) = 6.017, p = 2.374e-08\n",
      "x = 0.11554 +/- 0.053, y = 0.09551 +/- 0.042\n"
     ]
    }
   ],
   "source": [
    "for new_atlas in ['NettekovenSym68', 'NettekovenAsym68']:\n",
    "    x = Data[(Data['atlas_name'] == new_atlas)]['dcbc_group']\n",
    "    y = Data[(Data['atlas_name'] == 'Buckner17')]['dcbc_group']\n",
    "    print(f'\\n{new_atlas} vs Buckner17')\n",
    "    print_ttest(x,y, paired=True)\n",
    "\n",
    "    "
   ]
  },
  {
   "cell_type": "markdown",
   "metadata": {},
   "source": [
    "## Ji10 vs Nettekoven atlasses"
   ]
  },
  {
   "cell_type": "code",
   "execution_count": 16,
   "metadata": {},
   "outputs": [
    {
     "name": "stdout",
     "output_type": "stream",
     "text": [
      "\n",
      "NettekovenSym68 vs Ji10\n",
      "t(110) = 6.988, p = 2.249e-10\n",
      "x = 0.12317 +/- 0.060, y = 0.09757 +/- 0.051\n",
      "\n",
      "NettekovenAsym68 vs Ji10\n",
      "t(110) = 4.640, p = 9.683e-06\n",
      "x = 0.11554 +/- 0.053, y = 0.09757 +/- 0.051\n"
     ]
    }
   ],
   "source": [
    "for new_atlas in ['NettekovenSym68', 'NettekovenAsym68']:\n",
    "    x = Data[(Data['atlas_name'] == new_atlas)]['dcbc_group']\n",
    "    y = Data[(Data['atlas_name'] == 'Ji10')]['dcbc_group']\n",
    "    print(f'\\n{new_atlas} vs Ji10')\n",
    "    print_ttest(x,y, paired=True)\n",
    "\n",
    "    "
   ]
  },
  {
   "cell_type": "markdown",
   "metadata": {},
   "source": [
    "## Anatomical vs Nettekoven atlasses"
   ]
  },
  {
   "cell_type": "code",
   "execution_count": 17,
   "metadata": {},
   "outputs": [
    {
     "name": "stdout",
     "output_type": "stream",
     "text": [
      "\n",
      "NettekovenSym68 vs Anatom\n",
      "t(110) = 13.553, p = 3.338e-25\n",
      "x = 0.12317 +/- 0.060, y = 0.03899 +/- 0.035\n",
      "\n",
      "NettekovenAsym68 vs Anatom\n",
      "t(110) = 14.191, p = 1.315e-26\n",
      "x = 0.11554 +/- 0.053, y = 0.03899 +/- 0.035\n"
     ]
    }
   ],
   "source": [
    "for new_atlas in ['NettekovenSym68', 'NettekovenAsym68']:\n",
    "    x = Data[(Data['atlas_name'] == new_atlas)]['dcbc_group']\n",
    "    y = Data[(Data['atlas_name'] == 'Anatom')]['dcbc_group']\n",
    "    print(f'\\n{new_atlas} vs Anatom')\n",
    "    print_ttest(x,y, paired=True)\n",
    "\n",
    "    "
   ]
  },
  {
   "cell_type": "code",
   "execution_count": 18,
   "metadata": {},
   "outputs": [
    {
     "data": {
      "text/plain": [
       "<Axes: xlabel='test_data', ylabel='dcbc_group'>"
      ]
     },
     "execution_count": 18,
     "metadata": {},
     "output_type": "execute_result"
    },
    {
     "data": {
      "image/png": "[encoded data removed]",
      "text/plain": [
       "<Figure size 2000x500 with 1 Axes>"
      ]
     },
     "metadata": {},
     "output_type": "display_data"
    }
   ],
   "source": [
    "plt.figure(figsize=(20, 5))\n",
    "sb.barplot(data=Data, x='test_data', y='dcbc_group', hue='atlas_name', palette=color_palette)\n",
    "\n"
   ]
  },
  {
   "cell_type": "markdown",
   "metadata": {},
   "source": [
    "# Average within dataset"
   ]
  },
  {
   "cell_type": "code",
   "execution_count": 19,
   "metadata": {},
   "outputs": [
    {
     "data": {
      "text/html": [
       "<div>\n",
       "<style scoped>\n",
       "    .dataframe tbody tr th:only-of-type {\n",
       "        vertical-align: middle;\n",
       "    }\n",
       "\n",
       "    .dataframe tbody tr th {\n",
       "        vertical-align: top;\n",
       "    }\n",
       "\n",
       "    .dataframe thead th {\n",
       "        text-align: right;\n",
       "    }\n",
       "</style>\n",
       "<table border=\"1\" class=\"dataframe\">\n",
       "  <thead>\n",
       "    <tr style=\"text-align: right;\">\n",
       "      <th></th>\n",
       "      <th>atlas_name</th>\n",
       "      <th>test_data</th>\n",
       "      <th>K</th>\n",
       "      <th>subj_num</th>\n",
       "      <th>dcbc_group</th>\n",
       "    </tr>\n",
       "  </thead>\n",
       "  <tbody>\n",
       "    <tr>\n",
       "      <th>0</th>\n",
       "      <td>Anatom</td>\n",
       "      <td>Demand</td>\n",
       "      <td>44.0</td>\n",
       "      <td>18.0</td>\n",
       "      <td>0.032431</td>\n",
       "    </tr>\n",
       "    <tr>\n",
       "      <th>1</th>\n",
       "      <td>Anatom</td>\n",
       "      <td>IBC</td>\n",
       "      <td>44.0</td>\n",
       "      <td>5.5</td>\n",
       "      <td>0.034078</td>\n",
       "    </tr>\n",
       "    <tr>\n",
       "      <th>2</th>\n",
       "      <td>Anatom</td>\n",
       "      <td>MDTB</td>\n",
       "      <td>44.0</td>\n",
       "      <td>11.5</td>\n",
       "      <td>0.027264</td>\n",
       "    </tr>\n",
       "    <tr>\n",
       "      <th>3</th>\n",
       "      <td>Anatom</td>\n",
       "      <td>Nishimoto</td>\n",
       "      <td>44.0</td>\n",
       "      <td>2.5</td>\n",
       "      <td>0.031941</td>\n",
       "    </tr>\n",
       "    <tr>\n",
       "      <th>4</th>\n",
       "      <td>Anatom</td>\n",
       "      <td>Pontine</td>\n",
       "      <td>44.0</td>\n",
       "      <td>3.5</td>\n",
       "      <td>0.028204</td>\n",
       "    </tr>\n",
       "  </tbody>\n",
       "</table>\n",
       "</div>"
      ],
      "text/plain": [
       "  atlas_name  test_data     K  subj_num  dcbc_group\n",
       "0     Anatom     Demand  44.0      18.0    0.032431\n",
       "1     Anatom        IBC  44.0       5.5    0.034078\n",
       "2     Anatom       MDTB  44.0      11.5    0.027264\n",
       "3     Anatom  Nishimoto  44.0       2.5    0.031941\n",
       "4     Anatom    Pontine  44.0       3.5    0.028204"
      ]
     },
     "execution_count": 19,
     "metadata": {},
     "output_type": "execute_result"
    }
   ],
   "source": [
    "Data_mean = Data.groupby(['atlas_name', 'test_data']).mean().reset_index()\n",
    "Data_mean.head()\n"
   ]
  },
  {
   "cell_type": "code",
   "execution_count": 20,
   "metadata": {},
   "outputs": [
    {
     "data": {
      "image/png": "[encoded data removed]",
      "text/plain": [
       "<Figure size 2000x500 with 1 Axes>"
      ]
     },
     "metadata": {},
     "output_type": "display_data"
    }
   ],
   "source": [
    "plt.figure(figsize=(20, 5))\n",
    "ax = sb.barplot(data=Data_mean, x='atlas_name', y='dcbc_group', palette=color_palette)\n",
    "# Print the mean value of each bar above the bar\n",
    "for p in ax.patches:\n",
    "    height = p.get_height()\n",
    "    ax.annotate(f'{height:.5f}', (p.get_x() + p.get_width() / 2., height),\n",
    "                ha='center', va='center', xytext=(0, -75), textcoords='offset points')"
   ]
  },
  {
   "cell_type": "code",
   "execution_count": 21,
   "metadata": {},
   "outputs": [
    {
     "data": {
      "text/html": [
       "<div>\n",
       "<style scoped>\n",
       "    .dataframe tbody tr th:only-of-type {\n",
       "        vertical-align: middle;\n",
       "    }\n",
       "\n",
       "    .dataframe tbody tr th {\n",
       "        vertical-align: top;\n",
       "    }\n",
       "\n",
       "    .dataframe thead th {\n",
       "        text-align: right;\n",
       "    }\n",
       "</style>\n",
       "<table border=\"1\" class=\"dataframe\">\n",
       "  <thead>\n",
       "    <tr style=\"text-align: right;\">\n",
       "      <th></th>\n",
       "      <th>atlas_name</th>\n",
       "      <th>K</th>\n",
       "      <th>subj_num</th>\n",
       "      <th>dcbc_group</th>\n",
       "    </tr>\n",
       "  </thead>\n",
       "  <tbody>\n",
       "    <tr>\n",
       "      <th>5</th>\n",
       "      <td>NettekovenSym68</td>\n",
       "      <td>61.0</td>\n",
       "      <td>7.428571</td>\n",
       "      <td>0.105095</td>\n",
       "    </tr>\n",
       "    <tr>\n",
       "      <th>6</th>\n",
       "      <td>NettekovenAsym68</td>\n",
       "      <td>64.0</td>\n",
       "      <td>7.428571</td>\n",
       "      <td>0.103250</td>\n",
       "    </tr>\n",
       "    <tr>\n",
       "      <th>4</th>\n",
       "      <td>MDTB10</td>\n",
       "      <td>149.0</td>\n",
       "      <td>7.428571</td>\n",
       "      <td>0.092517</td>\n",
       "    </tr>\n",
       "    <tr>\n",
       "      <th>3</th>\n",
       "      <td>Buckner17</td>\n",
       "      <td>149.0</td>\n",
       "      <td>7.428571</td>\n",
       "      <td>0.081645</td>\n",
       "    </tr>\n",
       "    <tr>\n",
       "      <th>1</th>\n",
       "      <td>Buckner7</td>\n",
       "      <td>83.0</td>\n",
       "      <td>7.428571</td>\n",
       "      <td>0.080810</td>\n",
       "    </tr>\n",
       "    <tr>\n",
       "      <th>2</th>\n",
       "      <td>Ji10</td>\n",
       "      <td>573.0</td>\n",
       "      <td>7.428571</td>\n",
       "      <td>0.078847</td>\n",
       "    </tr>\n",
       "    <tr>\n",
       "      <th>0</th>\n",
       "      <td>Anatom</td>\n",
       "      <td>44.0</td>\n",
       "      <td>7.428571</td>\n",
       "      <td>0.043920</td>\n",
       "    </tr>\n",
       "  </tbody>\n",
       "</table>\n",
       "</div>"
      ],
      "text/plain": [
       "         atlas_name      K  subj_num  dcbc_group\n",
       "5   NettekovenSym68   61.0  7.428571    0.105095\n",
       "6  NettekovenAsym68   64.0  7.428571    0.103250\n",
       "4            MDTB10  149.0  7.428571    0.092517\n",
       "3         Buckner17  149.0  7.428571    0.081645\n",
       "1          Buckner7   83.0  7.428571    0.080810\n",
       "2              Ji10  573.0  7.428571    0.078847\n",
       "0            Anatom   44.0  7.428571    0.043920"
      ]
     },
     "execution_count": 21,
     "metadata": {},
     "output_type": "execute_result"
    }
   ],
   "source": [
    "Data_mean.drop(columns=['test_data']).groupby('atlas_name').mean().reset_index().sort_values(by='dcbc_group', ascending=False)\n",
    "\n"
   ]
  },
  {
   "cell_type": "markdown",
   "metadata": {},
   "source": [
    "### paired t-test between each test dataset's average DCBC for MDTB10 and Nettekoven atlas"
   ]
  },
  {
   "cell_type": "code",
   "execution_count": 22,
   "metadata": {},
   "outputs": [
    {
     "name": "stdout",
     "output_type": "stream",
     "text": [
      "\n",
      "NettekovenSym68 vs MDTB10\n",
      "t(6) = 1.554, p = 0.171\n",
      "x = 0.10510 +/- 0.048, y = 0.09252 +/- 0.035\n",
      "\n",
      "NettekovenAsym68 vs MDTB10\n",
      "t(6) = 1.239, p = 0.262\n",
      "x = 0.10325 +/- 0.047, y = 0.09252 +/- 0.035\n"
     ]
    }
   ],
   "source": [
    "for new_atlas in ['NettekovenSym68', 'NettekovenAsym68']:\n",
    "    x = Data_mean[(Data_mean['atlas_name'] == new_atlas)]['dcbc_group']\n",
    "    y = Data_mean[(Data_mean['atlas_name'] == 'MDTB10')]['dcbc_group']\n",
    "    print(f'\\n{new_atlas} vs MDTB10')\n",
    "    print_ttest(x,y, paired=True)\n",
    "\n",
    "    "
   ]
  }
 ],
 "metadata": {
  "kernelspec": {
   "display_name": "Python 3",
   "language": "python",
   "name": "python3"
  },
  "language_info": {
   "codemirror_mode": {
    "name": "ipython",
    "version": 3
   },
   "file_extension": ".py",
   "mimetype": "text/x-python",
   "name": "python",
   "nbconvert_exporter": "python",
   "pygments_lexer": "ipython3",
   "version": "3.9.5"
  },
  "orig_nbformat": 4,
  "vscode": {
   "interpreter": {
    "hash": "6f576643147e4b8cf152abb3cc999e302dc7167a7c41b51dd2e17d05f3cd1945"
   }
  }
 },
 "nbformat": 4,
 "nbformat_minor": 2
}
