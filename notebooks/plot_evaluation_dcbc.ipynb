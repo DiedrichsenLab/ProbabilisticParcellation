{
 "cells": [
  {
   "cell_type": "code",
   "execution_count": null,
   "metadata": {},
   "outputs": [],
   "source": []
  },
  {
   "cell_type": "code",
   "execution_count": 1,
   "metadata": {},
   "outputs": [],
   "source": [
    "from pathlib import Path\n",
    "import pandas as pd\n",
    "import numpy as np\n",
    "import matplotlib.pyplot as plt\n",
    "import seaborn as sb\n",
    "import sys\n",
    "\n",
    "base_dir = '/Volumes/diedrichsen_data$/data/FunctionalFusion'\n",
    "if not Path(base_dir).exists():\n",
    "    base_dir = '/srv/diedrichsen/data/FunctionalFusion'"
   ]
  },
  {
   "cell_type": "markdown",
   "metadata": {},
   "source": [
    "This notebook plots the DCBC and cosine error evaluation of the different parcellations"
   ]
  },
  {
   "cell_type": "code",
   "execution_count": 2,
   "metadata": {},
   "outputs": [
    {
     "data": {
      "text/html": [
       "<div>\n",
       "<style scoped>\n",
       "    .dataframe tbody tr th:only-of-type {\n",
       "        vertical-align: middle;\n",
       "    }\n",
       "\n",
       "    .dataframe tbody tr th {\n",
       "        vertical-align: top;\n",
       "    }\n",
       "\n",
       "    .dataframe thead th {\n",
       "        text-align: right;\n",
       "    }\n",
       "</style>\n",
       "<table border=\"1\" class=\"dataframe\">\n",
       "  <thead>\n",
       "    <tr style=\"text-align: right;\">\n",
       "      <th></th>\n",
       "      <th>model_name</th>\n",
       "      <th>atlas</th>\n",
       "      <th>K</th>\n",
       "      <th>train_data</th>\n",
       "      <th>train_loglik</th>\n",
       "      <th>test_data</th>\n",
       "      <th>indivtrain_ind</th>\n",
       "      <th>indivtrain_val</th>\n",
       "      <th>subj_num</th>\n",
       "      <th>dcbc_group</th>\n",
       "      <th>dbcb_indiv</th>\n",
       "    </tr>\n",
       "  </thead>\n",
       "  <tbody>\n",
       "    <tr>\n",
       "      <th>0</th>\n",
       "      <td>0</td>\n",
       "      <td>MNISymC3</td>\n",
       "      <td>10</td>\n",
       "      <td>['Mdtb']</td>\n",
       "      <td>1.115685e+07</td>\n",
       "      <td>Mdtb</td>\n",
       "      <td>half</td>\n",
       "      <td>1</td>\n",
       "      <td>0</td>\n",
       "      <td>0.091854</td>\n",
       "      <td>0.111048</td>\n",
       "    </tr>\n",
       "    <tr>\n",
       "      <th>1</th>\n",
       "      <td>0</td>\n",
       "      <td>MNISymC3</td>\n",
       "      <td>10</td>\n",
       "      <td>['Mdtb']</td>\n",
       "      <td>1.115685e+07</td>\n",
       "      <td>Mdtb</td>\n",
       "      <td>half</td>\n",
       "      <td>1</td>\n",
       "      <td>1</td>\n",
       "      <td>0.095631</td>\n",
       "      <td>0.167012</td>\n",
       "    </tr>\n",
       "    <tr>\n",
       "      <th>2</th>\n",
       "      <td>0</td>\n",
       "      <td>MNISymC3</td>\n",
       "      <td>10</td>\n",
       "      <td>['Mdtb']</td>\n",
       "      <td>1.115685e+07</td>\n",
       "      <td>Mdtb</td>\n",
       "      <td>half</td>\n",
       "      <td>1</td>\n",
       "      <td>2</td>\n",
       "      <td>0.026171</td>\n",
       "      <td>0.048825</td>\n",
       "    </tr>\n",
       "    <tr>\n",
       "      <th>3</th>\n",
       "      <td>0</td>\n",
       "      <td>MNISymC3</td>\n",
       "      <td>10</td>\n",
       "      <td>['Mdtb']</td>\n",
       "      <td>1.115685e+07</td>\n",
       "      <td>Mdtb</td>\n",
       "      <td>half</td>\n",
       "      <td>1</td>\n",
       "      <td>3</td>\n",
       "      <td>0.209580</td>\n",
       "      <td>0.296363</td>\n",
       "    </tr>\n",
       "    <tr>\n",
       "      <th>4</th>\n",
       "      <td>0</td>\n",
       "      <td>MNISymC3</td>\n",
       "      <td>10</td>\n",
       "      <td>['Mdtb']</td>\n",
       "      <td>1.115685e+07</td>\n",
       "      <td>Mdtb</td>\n",
       "      <td>half</td>\n",
       "      <td>1</td>\n",
       "      <td>4</td>\n",
       "      <td>0.134436</td>\n",
       "      <td>0.125377</td>\n",
       "    </tr>\n",
       "    <tr>\n",
       "      <th>...</th>\n",
       "      <td>...</td>\n",
       "      <td>...</td>\n",
       "      <td>...</td>\n",
       "      <td>...</td>\n",
       "      <td>...</td>\n",
       "      <td>...</td>\n",
       "      <td>...</td>\n",
       "      <td>...</td>\n",
       "      <td>...</td>\n",
       "      <td>...</td>\n",
       "      <td>...</td>\n",
       "    </tr>\n",
       "    <tr>\n",
       "      <th>695</th>\n",
       "      <td>9</td>\n",
       "      <td>MNISymC3</td>\n",
       "      <td>10</td>\n",
       "      <td>['Mdtb' 'Pontine' 'Nishimoto' 'Ibc' 'Hcp']</td>\n",
       "      <td>1.544069e+08</td>\n",
       "      <td>Ibc</td>\n",
       "      <td>half</td>\n",
       "      <td>2</td>\n",
       "      <td>7</td>\n",
       "      <td>0.033639</td>\n",
       "      <td>0.078744</td>\n",
       "    </tr>\n",
       "    <tr>\n",
       "      <th>696</th>\n",
       "      <td>9</td>\n",
       "      <td>MNISymC3</td>\n",
       "      <td>10</td>\n",
       "      <td>['Mdtb' 'Pontine' 'Nishimoto' 'Ibc' 'Hcp']</td>\n",
       "      <td>1.544069e+08</td>\n",
       "      <td>Ibc</td>\n",
       "      <td>half</td>\n",
       "      <td>2</td>\n",
       "      <td>8</td>\n",
       "      <td>0.040678</td>\n",
       "      <td>0.024133</td>\n",
       "    </tr>\n",
       "    <tr>\n",
       "      <th>697</th>\n",
       "      <td>9</td>\n",
       "      <td>MNISymC3</td>\n",
       "      <td>10</td>\n",
       "      <td>['Mdtb' 'Pontine' 'Nishimoto' 'Ibc' 'Hcp']</td>\n",
       "      <td>1.544069e+08</td>\n",
       "      <td>Ibc</td>\n",
       "      <td>half</td>\n",
       "      <td>2</td>\n",
       "      <td>9</td>\n",
       "      <td>0.051255</td>\n",
       "      <td>0.041154</td>\n",
       "    </tr>\n",
       "    <tr>\n",
       "      <th>698</th>\n",
       "      <td>9</td>\n",
       "      <td>MNISymC3</td>\n",
       "      <td>10</td>\n",
       "      <td>['Mdtb' 'Pontine' 'Nishimoto' 'Ibc' 'Hcp']</td>\n",
       "      <td>1.544069e+08</td>\n",
       "      <td>Ibc</td>\n",
       "      <td>half</td>\n",
       "      <td>2</td>\n",
       "      <td>10</td>\n",
       "      <td>0.054737</td>\n",
       "      <td>0.014149</td>\n",
       "    </tr>\n",
       "    <tr>\n",
       "      <th>699</th>\n",
       "      <td>9</td>\n",
       "      <td>MNISymC3</td>\n",
       "      <td>10</td>\n",
       "      <td>['Mdtb' 'Pontine' 'Nishimoto' 'Ibc' 'Hcp']</td>\n",
       "      <td>1.544069e+08</td>\n",
       "      <td>Ibc</td>\n",
       "      <td>half</td>\n",
       "      <td>2</td>\n",
       "      <td>11</td>\n",
       "      <td>0.042660</td>\n",
       "      <td>0.014858</td>\n",
       "    </tr>\n",
       "  </tbody>\n",
       "</table>\n",
       "<p>700 rows × 11 columns</p>\n",
       "</div>"
      ],
      "text/plain": [
       "     model_name     atlas   K                                  train_data  \\\n",
       "0             0  MNISymC3  10                                    ['Mdtb']   \n",
       "1             0  MNISymC3  10                                    ['Mdtb']   \n",
       "2             0  MNISymC3  10                                    ['Mdtb']   \n",
       "3             0  MNISymC3  10                                    ['Mdtb']   \n",
       "4             0  MNISymC3  10                                    ['Mdtb']   \n",
       "..          ...       ...  ..                                         ...   \n",
       "695           9  MNISymC3  10  ['Mdtb' 'Pontine' 'Nishimoto' 'Ibc' 'Hcp']   \n",
       "696           9  MNISymC3  10  ['Mdtb' 'Pontine' 'Nishimoto' 'Ibc' 'Hcp']   \n",
       "697           9  MNISymC3  10  ['Mdtb' 'Pontine' 'Nishimoto' 'Ibc' 'Hcp']   \n",
       "698           9  MNISymC3  10  ['Mdtb' 'Pontine' 'Nishimoto' 'Ibc' 'Hcp']   \n",
       "699           9  MNISymC3  10  ['Mdtb' 'Pontine' 'Nishimoto' 'Ibc' 'Hcp']   \n",
       "\n",
       "     train_loglik test_data indivtrain_ind  indivtrain_val  subj_num  \\\n",
       "0    1.115685e+07      Mdtb           half               1         0   \n",
       "1    1.115685e+07      Mdtb           half               1         1   \n",
       "2    1.115685e+07      Mdtb           half               1         2   \n",
       "3    1.115685e+07      Mdtb           half               1         3   \n",
       "4    1.115685e+07      Mdtb           half               1         4   \n",
       "..            ...       ...            ...             ...       ...   \n",
       "695  1.544069e+08       Ibc           half               2         7   \n",
       "696  1.544069e+08       Ibc           half               2         8   \n",
       "697  1.544069e+08       Ibc           half               2         9   \n",
       "698  1.544069e+08       Ibc           half               2        10   \n",
       "699  1.544069e+08       Ibc           half               2        11   \n",
       "\n",
       "     dcbc_group  dbcb_indiv  \n",
       "0      0.091854    0.111048  \n",
       "1      0.095631    0.167012  \n",
       "2      0.026171    0.048825  \n",
       "3      0.209580    0.296363  \n",
       "4      0.134436    0.125377  \n",
       "..          ...         ...  \n",
       "695    0.033639    0.078744  \n",
       "696    0.040678    0.024133  \n",
       "697    0.051255    0.041154  \n",
       "698    0.054737    0.014149  \n",
       "699    0.042660    0.014858  \n",
       "\n",
       "[700 rows x 11 columns]"
      ]
     },
     "execution_count": 2,
     "metadata": {},
     "output_type": "execute_result"
    }
   ],
   "source": [
    "# Load evaluation results\n",
    "dcbc = pd.read_csv(base_dir + '/Models/Evaluation_01/eval_dcbc_asym_K-10.tsv', sep='\\t')\n",
    "dcbc"
   ]
  },
  {
   "cell_type": "markdown",
   "metadata": {},
   "source": [
    "### DCBC for group arrangement model\n",
    "Error bars indicate variation in DCBC across subjects"
   ]
  },
  {
   "cell_type": "code",
   "execution_count": 3,
   "metadata": {},
   "outputs": [
    {
     "data": {
      "text/plain": [
       "<AxesSubplot:xlabel='test_data', ylabel='dcbc_group'>"
      ]
     },
     "execution_count": 3,
     "metadata": {},
     "output_type": "execute_result"
    },
    {
     "data": {
      "image/png": "[encoded data removed]",
      "text/plain": [
       "<Figure size 1080x576 with 1 Axes>"
      ]
     },
     "metadata": {
      "needs_background": "light"
     },
     "output_type": "display_data"
    }
   ],
   "source": [
    "plt.figure(figsize=(15,8))\n",
    "\n",
    "sb.barplot(data=dcbc, x=\"test_data\", y=\"dcbc_group\", hue=\"train_data\")\n",
    "# sb.barplot(data=dcbc, x=\"train_data\", y=\"dcbc\", hue=\"test_data\")\n"
   ]
  },
  {
   "cell_type": "markdown",
   "metadata": {},
   "source": [
    "## DCBC for individual parcellations"
   ]
  },
  {
   "cell_type": "code",
   "execution_count": 4,
   "metadata": {},
   "outputs": [
    {
     "data": {
      "text/plain": [
       "<AxesSubplot:xlabel='test_data', ylabel='dbcb_indiv'>"
      ]
     },
     "execution_count": 4,
     "metadata": {},
     "output_type": "execute_result"
    },
    {
     "data": {
      "image/png": "[encoded data removed]",
      "text/plain": [
       "<Figure size 1080x576 with 1 Axes>"
      ]
     },
     "metadata": {
      "needs_background": "light"
     },
     "output_type": "display_data"
    }
   ],
   "source": [
    "plt.figure(figsize=(15,8))\n",
    "\n",
    "sb.barplot(data=dcbc, x=\"test_data\", y=\"dbcb_indiv\", hue=\"train_data\")\n",
    "# sb.barplot(data=dcbc, x=\"train_data\", y=\"dcbc\", hue=\"test_data\")\n",
    "\n"
   ]
  }
 ],
 "metadata": {
  "kernelspec": {
   "display_name": "Python 3.8.5 ('base')",
   "language": "python",
   "name": "python3"
  },
  "language_info": {
   "codemirror_mode": {
    "name": "ipython",
    "version": 3
   },
   "file_extension": ".py",
   "mimetype": "text/x-python",
   "name": "python",
   "nbconvert_exporter": "python",
   "pygments_lexer": "ipython3",
   "version": "3.8.5"
  },
  "orig_nbformat": 4,
  "vscode": {
   "interpreter": {
    "hash": "82c9595c6ac3df5bed1366f4aa85323e4ec1b3448185f6be6e163d2b6e222f49"
   }
  }
 },
 "nbformat": 4,
 "nbformat_minor": 2
}
