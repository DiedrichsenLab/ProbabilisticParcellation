{
 "cells": [
  {
   "attachments": {},
   "cell_type": "markdown",
   "metadata": {},
   "source": [
    "# DCBC model evaluation"
   ]
  },
  {
   "cell_type": "code",
   "execution_count": 1,
   "metadata": {},
   "outputs": [],
   "source": [
    "\n",
    "import ProbabilisticParcellation.evaluate as ev\n",
    "import ProbabilisticParcellation.util as ut\n",
    "import ProbabilisticParcellation.functional_profiles as fp\n",
    "import Functional_Fusion.dataset as ds\n",
    "import matplotlib.pyplot as plt\n",
    "import seaborn as sb\n",
    "import pandas as pd\n",
    "from scipy import stats\n",
    "import glob\n",
    "import numpy as np\n",
    "import os\n",
    "\n"
   ]
  },
  {
   "cell_type": "code",
   "execution_count": 34,
   "metadata": {},
   "outputs": [],
   "source": [
    "# Import Data\n",
    "Data = pd.read_csv(f'{ut.model_dir}/Models/Evaluation/evaluation_dcbc.tsv', sep='\\t')"
   ]
  },
  {
   "cell_type": "code",
   "execution_count": 6,
   "metadata": {},
   "outputs": [],
   "source": [
    "# Define colours\n",
    "sb.color_palette(sb.color_palette(\"tab10\"))\n",
    "# Get the first three colors in the \"tab10\" color palette\n",
    "colors = sb.color_palette(\"tab10\", n_colors=3)\n",
    "hex_codes_single = [\n",
    "    f\"#{int(r * 255):02x}{int(g * 255):02x}{int(b * 255):02x}\" for r, g, b in colors]\n",
    "# Repeat colours to get 6 colours\n",
    "hex_codes = np.repeat(hex_codes_single, 2)"
   ]
  },
  {
   "cell_type": "markdown",
   "metadata": {},
   "source": [
    "# Group DCBC and Individual DCBC in one plot for Fusion atlas"
   ]
  },
  {
   "cell_type": "code",
   "execution_count": 7,
   "metadata": {},
   "outputs": [
    {
     "data": {
      "text/html": [
       "<div>\n",
       "<style scoped>\n",
       "    .dataframe tbody tr th:only-of-type {\n",
       "        vertical-align: middle;\n",
       "    }\n",
       "\n",
       "    .dataframe tbody tr th {\n",
       "        vertical-align: top;\n",
       "    }\n",
       "\n",
       "    .dataframe thead th {\n",
       "        text-align: right;\n",
       "    }\n",
       "</style>\n",
       "<table border=\"1\" class=\"dataframe\">\n",
       "  <thead>\n",
       "    <tr style=\"text-align: right;\">\n",
       "      <th></th>\n",
       "      <th>K</th>\n",
       "      <th>Training</th>\n",
       "      <th>symmetry</th>\n",
       "      <th>dcbc_type</th>\n",
       "      <th>DCBC</th>\n",
       "    </tr>\n",
       "  </thead>\n",
       "  <tbody>\n",
       "    <tr>\n",
       "      <th>0</th>\n",
       "      <td>10</td>\n",
       "      <td>Leave_one_out</td>\n",
       "      <td>Symmetric</td>\n",
       "      <td>dcbc_group</td>\n",
       "      <td>0.038595</td>\n",
       "    </tr>\n",
       "    <tr>\n",
       "      <th>1</th>\n",
       "      <td>10</td>\n",
       "      <td>Leave_one_out</td>\n",
       "      <td>Symmetric</td>\n",
       "      <td>dcbc_group</td>\n",
       "      <td>0.012023</td>\n",
       "    </tr>\n",
       "    <tr>\n",
       "      <th>2</th>\n",
       "      <td>10</td>\n",
       "      <td>Leave_one_out</td>\n",
       "      <td>Symmetric</td>\n",
       "      <td>dcbc_group</td>\n",
       "      <td>-0.009863</td>\n",
       "    </tr>\n",
       "    <tr>\n",
       "      <th>3</th>\n",
       "      <td>10</td>\n",
       "      <td>Leave_one_out</td>\n",
       "      <td>Symmetric</td>\n",
       "      <td>dcbc_group</td>\n",
       "      <td>0.108692</td>\n",
       "    </tr>\n",
       "    <tr>\n",
       "      <th>4</th>\n",
       "      <td>10</td>\n",
       "      <td>Leave_one_out</td>\n",
       "      <td>Symmetric</td>\n",
       "      <td>dcbc_group</td>\n",
       "      <td>0.120695</td>\n",
       "    </tr>\n",
       "  </tbody>\n",
       "</table>\n",
       "</div>"
      ],
      "text/plain": [
       "    K       Training   symmetry   dcbc_type      DCBC\n",
       "0  10  Leave_one_out  Symmetric  dcbc_group  0.038595\n",
       "1  10  Leave_one_out  Symmetric  dcbc_group  0.012023\n",
       "2  10  Leave_one_out  Symmetric  dcbc_group -0.009863\n",
       "3  10  Leave_one_out  Symmetric  dcbc_group  0.108692\n",
       "4  10  Leave_one_out  Symmetric  dcbc_group  0.120695"
      ]
     },
     "execution_count": 7,
     "metadata": {},
     "output_type": "execute_result"
    }
   ],
   "source": [
    "# Melt Data\n",
    "Data_melted = pd.melt(Data[Data['Training']=='Leave_one_out'], id_vars=['K', 'Training', 'symmetry'], value_vars=['dcbc_group', 'dcbc_indiv'], var_name='dcbc_type', value_name='DCBC')\n",
    "Data_melted.head()"
   ]
  },
  {
   "cell_type": "code",
   "execution_count": 8,
   "metadata": {},
   "outputs": [],
   "source": [
    "fusion_orange = '#ff7f0e'\n",
    "fusion_orange = list(np.repeat(fusion_orange,2))"
   ]
  },
  {
   "cell_type": "code",
   "execution_count": 9,
   "metadata": {},
   "outputs": [
    {
     "data": {
      "text/plain": [
       "<Figure size 1000x2000 with 0 Axes>"
      ]
     },
     "metadata": {},
     "output_type": "display_data"
    },
    {
     "data": {
      "image/png": "[encoded data removed]",
      "text/plain": [
       "<Figure size 1122.5x500 with 2 Axes>"
      ]
     },
     "metadata": {},
     "output_type": "display_data"
    }
   ],
   "source": [
    "# Plot only fused DCBC results\n",
    "hex_codes_fusion = np.repeat(hex_codes_single[1:], 4)\n",
    "figsize = (10, 20)\n",
    "plt.figure(figsize=figsize)\n",
    "sb.set_style(\"white\")\n",
    "sb.relplot(\n",
    "    data=Data_melted[Data_melted['K'].isin([10, 20, 34, 40, 68])], x=\"K\", y=\"DCBC\", hue=\"dcbc_type\", kind=\"line\", col=\"symmetry\", markers=True, errorbar=\"se\", palette = fusion_orange, style=\"dcbc_type\")\n",
    "plt.savefig(f'{ut.figure_dir}/DCBC_group_indiv.pdf')\n"
   ]
  },
  {
   "cell_type": "markdown",
   "metadata": {},
   "source": [
    "## DCBC Group: Single vs. Fusion atlas, Asymmetric vs Symmetric"
   ]
  },
  {
   "cell_type": "code",
   "execution_count": 9,
   "metadata": {},
   "outputs": [
    {
     "data": {
      "image/png": "[encoded data removed]",
      "text/plain": [
       "<Figure size 300x300 with 1 Axes>"
      ]
     },
     "metadata": {},
     "output_type": "display_data"
    }
   ],
   "source": [
    "figsize = (3, 3)\n",
    "\n",
    "# Bar graph at K=68 with hue = Symmetry where hue bars are next to each other\n",
    "# Define the data\n",
    "categories = Data[Data['K'].isin([10, 20, 34, 40, 68])].Training.unique()\n",
    "hues = Data[Data['K'].isin([10, 20, 34, 40, 68])].symmetry.unique()\n",
    "\n",
    "# Calculate the mean values for each category and hue combination\n",
    "mean_values = Data[Data['K'].isin([10, 20, 34, 40, 68])].groupby(['Training', 'symmetry'])[\n",
    "    'dcbc_group'].mean().values\n",
    "\n",
    "# Calculate the standard error of the mean for each category and hue combination\n",
    "sem_values = Data[Data['K'].isin([10, 20, 34, 40, 68])].groupby(['Training', 'symmetry'])[\n",
    "    'dcbc_group'].sem().values\n",
    "\n",
    "# Define the colors for each category\n",
    "colors = sb.color_palette(\"tab10\", n_colors=len(categories))\n",
    "\n",
    "# Create a figure and axis\n",
    "fig, ax = plt.subplots(figsize=figsize)\n",
    "\n",
    "# Iterate over each category\n",
    "for i, category in enumerate(categories):\n",
    "    # Get the color for the current category\n",
    "    color = colors[i]\n",
    "\n",
    "    # Plot the bars for the two hues\n",
    "    j = 2 * i\n",
    "    ax.bar([i - 0.2, i + 0.2], mean_values[j:j + len(hues)], width=0.4,\n",
    "           yerr=sem_values[j:j + len(hues)],\n",
    "           color=color, label=hues)\n",
    "    \n",
    "    # Set a different hatch for every second bar\n",
    "    ax.patches[j+1].set_hatch('/')\n",
    "\n",
    "# Set the x-axis tick labels\n",
    "ax.set_xticks(range(len(categories)))\n",
    "ax.set_xticklabels(categories)\n",
    "# Smaller xtick labels  \n",
    "ax.tick_params(axis='x', which='major', labelsize=9)\n",
    "\n",
    "# plt.legend()\n",
    "# Tight layout and despine\n",
    "fig.tight_layout()\n",
    "sb.despine()\n",
    "# Export the plot at high resolution\n",
    "plt.savefig(f'{ut.figure_dir}/DCBC_group_bar_avg.pdf', dpi=300)\n"
   ]
  },
  {
   "cell_type": "markdown",
   "metadata": {},
   "source": [
    "## DCBC Individual: Single vs. Fusion atlas, Asymmetric vs Symmetric"
   ]
  },
  {
   "cell_type": "code",
   "execution_count": 123,
   "metadata": {},
   "outputs": [
    {
     "data": {
      "image/png": "[encoded data removed]",
      "text/plain": [
       "<Figure size 300x300 with 1 Axes>"
      ]
     },
     "metadata": {},
     "output_type": "display_data"
    }
   ],
   "source": [
    "# Bar graph at K=68 with hue = Symmetry where hue bars are next to each other\n",
    "sb.color_palette(sb.color_palette(\"tab10\"))\n",
    "# Get the first three colors in the \"tab10\" color palette\n",
    "colors = sb.color_palette(\"tab10\", n_colors=3)\n",
    "hex_codes = [\n",
    "    f\"#{int(r * 255):02x}{int(g * 255):02x}{int(b * 255):02x}\" for r, g, b in colors]\n",
    "# Repeat colours to get 6 colours\n",
    "hex_codes = np.repeat(hex_codes, 2)\n",
    "\n",
    "# Define the data\n",
    "categories = Data[Data['K'].isin([10, 20, 34, 40, 68])].Training.unique()\n",
    "hues = Data[Data['K'].isin([10, 20, 34, 40, 68])].symmetry.unique()\n",
    "\n",
    "# Calculate the mean values for each category and hue combination\n",
    "mean_values = Data[Data['K'].isin([10, 20, 34, 40, 68])].groupby(['Training', 'symmetry'])[\n",
    "    'dcbc_indiv'].mean().values\n",
    "\n",
    "# Calculate the standard error of the mean for each category and hue combination\n",
    "sem_values = Data[Data['K'].isin([10, 20, 34, 40, 68])].groupby(['Training', 'symmetry'])[\n",
    "    'dcbc_indiv'].sem().values\n",
    "\n",
    "# Define the colors for each category\n",
    "colors = sb.color_palette(\"tab10\", n_colors=len(categories))\n",
    "\n",
    "# Create a figure and axis\n",
    "fig, ax = plt.subplots(figsize=figsize)\n",
    "\n",
    "# Iterate over each category\n",
    "for i, category in enumerate(categories):\n",
    "    # Get the color for the current category\n",
    "    color = colors[i]\n",
    "\n",
    "    # Plot the bars for the two hues\n",
    "    j = 2 * i\n",
    "    ax.bar([i - 0.2, i + 0.2], mean_values[j:j + len(hues)], width=0.4,\n",
    "           yerr=sem_values[j:j + len(hues)],\n",
    "           color=color, label=hues)\n",
    "\n",
    "    # Set a different hatch for every second bar\n",
    "    ax.patches[j + 1].set_hatch('/')\n",
    "\n",
    "# Set the x-axis tick labels\n",
    "ax.set_xticks(range(len(categories)))\n",
    "ax.set_xticklabels(categories)\n",
    "# Smaller xtick labels\n",
    "ax.tick_params(axis='x', which='major', labelsize=9)\n",
    "\n",
    "# plt.legend()\n",
    "# Tight layout and despine\n",
    "fig.tight_layout()\n",
    "sb.despine()\n",
    "# Export the plot at high resolution\n",
    "plt.savefig(f'{ut.figure_dir}/DCBC_group_bar_individual_avg.pdf', dpi=300)\n"
   ]
  },
  {
   "attachments": {},
   "cell_type": "markdown",
   "metadata": {},
   "source": [
    "# Stats"
   ]
  },
  {
   "cell_type": "code",
   "execution_count": 39,
   "metadata": {},
   "outputs": [
    {
     "name": "stderr",
     "output_type": "stream",
     "text": [
      "/var/folders/y1/13zjm1t50ms6ds24c69y7vx40000gn/T/ipykernel_6277/2081741850.py:10: SettingWithCopyWarning: \n",
      "A value is trying to be set on a copy of a slice from a DataFrame\n",
      "\n",
      "See the caveats in the documentation: https://pandas.pydata.org/pandas-docs/stable/user_guide/indexing.html#returning-a-view-versus-a-copy\n",
      "  Data['participant_id'][select_rows] = participants*int(len(select_rows)/len(participants))\n",
      "/var/folders/y1/13zjm1t50ms6ds24c69y7vx40000gn/T/ipykernel_6277/2081741850.py:10: SettingWithCopyWarning: \n",
      "A value is trying to be set on a copy of a slice from a DataFrame\n",
      "\n",
      "See the caveats in the documentation: https://pandas.pydata.org/pandas-docs/stable/user_guide/indexing.html#returning-a-view-versus-a-copy\n",
      "  Data['participant_id'][select_rows] = participants*int(len(select_rows)/len(participants))\n",
      "/var/folders/y1/13zjm1t50ms6ds24c69y7vx40000gn/T/ipykernel_6277/2081741850.py:10: SettingWithCopyWarning: \n",
      "A value is trying to be set on a copy of a slice from a DataFrame\n",
      "\n",
      "See the caveats in the documentation: https://pandas.pydata.org/pandas-docs/stable/user_guide/indexing.html#returning-a-view-versus-a-copy\n",
      "  Data['participant_id'][select_rows] = participants*int(len(select_rows)/len(participants))\n",
      "/var/folders/y1/13zjm1t50ms6ds24c69y7vx40000gn/T/ipykernel_6277/2081741850.py:10: SettingWithCopyWarning: \n",
      "A value is trying to be set on a copy of a slice from a DataFrame\n",
      "\n",
      "See the caveats in the documentation: https://pandas.pydata.org/pandas-docs/stable/user_guide/indexing.html#returning-a-view-versus-a-copy\n",
      "  Data['participant_id'][select_rows] = participants*int(len(select_rows)/len(participants))\n",
      "/var/folders/y1/13zjm1t50ms6ds24c69y7vx40000gn/T/ipykernel_6277/2081741850.py:10: SettingWithCopyWarning: \n",
      "A value is trying to be set on a copy of a slice from a DataFrame\n",
      "\n",
      "See the caveats in the documentation: https://pandas.pydata.org/pandas-docs/stable/user_guide/indexing.html#returning-a-view-versus-a-copy\n",
      "  Data['participant_id'][select_rows] = participants*int(len(select_rows)/len(participants))\n",
      "/var/folders/y1/13zjm1t50ms6ds24c69y7vx40000gn/T/ipykernel_6277/2081741850.py:10: SettingWithCopyWarning: \n",
      "A value is trying to be set on a copy of a slice from a DataFrame\n",
      "\n",
      "See the caveats in the documentation: https://pandas.pydata.org/pandas-docs/stable/user_guide/indexing.html#returning-a-view-versus-a-copy\n",
      "  Data['participant_id'][select_rows] = participants*int(len(select_rows)/len(participants))\n",
      "/var/folders/y1/13zjm1t50ms6ds24c69y7vx40000gn/T/ipykernel_6277/2081741850.py:10: SettingWithCopyWarning: \n",
      "A value is trying to be set on a copy of a slice from a DataFrame\n",
      "\n",
      "See the caveats in the documentation: https://pandas.pydata.org/pandas-docs/stable/user_guide/indexing.html#returning-a-view-versus-a-copy\n",
      "  Data['participant_id'][select_rows] = participants*int(len(select_rows)/len(participants))\n"
     ]
    }
   ],
   "source": [
    "# Add subject variables\n",
    "datasets = Data['test_data'].unique()\n",
    "Data['participant_id'] = ''\n",
    "for dset in datasets:\n",
    "    # Import participant info\n",
    "    dataset = ds.get_dataset_class(ut.base_dir, dset)\n",
    "    participants = dataset.get_participants().participant_id.tolist()\n",
    "    participants = [dset + '_' + p for p in participants]\n",
    "    select_rows = (Data['test_data'] == dset)\n",
    "    Data['participant_id'][select_rows] = participants*int(len(select_rows)/len(participants))\n",
    "\n"
   ]
  },
  {
   "cell_type": "code",
   "execution_count": 59,
   "metadata": {},
   "outputs": [],
   "source": [
    "# -- Single dataset parcellations: average across two halves within each subject for each model, K and symmetry -- #\n",
    "# Step 1: Group the data for single dataset parcellations by subject\n",
    "grouped_data = Data[Data['Training']=='Single'].groupby(['participant_id', 'K', 'symmetry'])\n",
    "# Step 2: Get the highest/average value for each subject\n",
    "averaged_data = grouped_data[['dcbc_indiv', 'dcbc_group']].mean() # .max() for highest value\n",
    "# Step 3: Create a new DataFrame with one row per subject and the highest value\n",
    "Data_single = averaged_data.reset_index()\n",
    "\n",
    "# -- Fusion parcellations: average across two halves within each subject for each model, K and symmetry -- #\n",
    "# Step 1: Group the data for fusion parcellations by subject\n",
    "grouped_data = Data[Data['Training']=='Leave_one_out'].groupby(['participant_id', 'K', 'symmetry'])\n",
    "# Step 2: Get the mean value for each subject\n",
    "Data_fusion = grouped_data[['dcbc_indiv', 'dcbc_group']].mean().reset_index()"
   ]
  },
  {
   "cell_type": "markdown",
   "metadata": {},
   "source": [
    "# Fused vs. Best single dataset: Group DCBC"
   ]
  },
  {
   "cell_type": "code",
   "execution_count": 72,
   "metadata": {},
   "outputs": [
    {
     "name": "stdout",
     "output_type": "stream",
     "text": [
      "T = -4.466, p = 1.936e-05, df = 110\n",
      "T = -2.820, p = 5.697e-03, df = 110\n"
     ]
    }
   ],
   "source": [
    "# -- Test averaged across all Ks -- #\n",
    "# Single vs cross-validated Fused\n",
    "dat1 = Data_single[(Data_single['symmetry'] == 'Symmetric')  & Data_single['K'].isin([10, 20, 34, 40, 68])][['participant_id', 'dcbc_group', 'dcbc_indiv']].groupby(['participant_id']).mean()\n",
    "dat2 = Data_fusion[(Data_fusion['symmetry'] == 'Symmetric')  & Data_fusion['K'].isin([10, 20, 34, 40, 68])][['participant_id', 'dcbc_group', 'dcbc_indiv']].groupby(['participant_id']).mean()\n",
    "res = stats.ttest_rel(dat1['dcbc_group'], dat2['dcbc_group'])\n",
    "# show degrees of freedom\n",
    "df = len(dat1) - 1\n",
    "# Show in scientific notation\n",
    "print(f'T = {res.statistic:.3f}, p = {res.pvalue:.3e}, df = {df}')\n",
    "\n",
    "\n",
    "# -- Test for K=68 only -- #\n",
    "# Single vs cross-validated Fused\n",
    "dat1 = Data_single[(Data_single['symmetry'] == 'Symmetric')  & (Data_single['K'] == 68) ]\n",
    "dat2 = Data_fusion[(Data_fusion['symmetry'] == 'Symmetric')  & (Data_fusion['K'] == 68) ]\n",
    "res = stats.ttest_rel(dat1['dcbc_group'], dat2['dcbc_group'])\n",
    "df = len(dat1) - 1\n",
    "# Show in scientific notation\n",
    "print(f'T = {res.statistic:.3f}, p = {res.pvalue:.3e}, df = {df}')\n"
   ]
  },
  {
   "cell_type": "markdown",
   "metadata": {},
   "source": [
    "# Fused vs. Best single dataset: Individual DCBC"
   ]
  },
  {
   "cell_type": "code",
   "execution_count": 74,
   "metadata": {},
   "outputs": [
    {
     "name": "stdout",
     "output_type": "stream",
     "text": [
      "T = -2.564, p = 1.171e-02, df = 110\n",
      "T = -2.564, p = 0.012, df = 110\n",
      "T = -3.586, p = 5.018e-04, df = 110\n",
      "T = -3.586, p = 0.001, df = 110\n"
     ]
    }
   ],
   "source": [
    "# -- Test averaged across all Ks -- #\n",
    "# Single vs cross-validated Fused\n",
    "dat1 = Data_single[(Data_single['symmetry'] == 'Symmetric')  & Data_single['K'].isin([10, 20, 34, 40, 68])][['participant_id', 'dcbc_group', 'dcbc_indiv']].groupby(['participant_id']).mean()\n",
    "dat2 = Data_fusion[(Data_fusion['symmetry'] == 'Symmetric')  & Data_fusion['K'].isin([10, 20, 34, 40, 68])][['participant_id', 'dcbc_group', 'dcbc_indiv']].groupby(['participant_id']).mean()\n",
    "res = stats.ttest_rel(dat1['dcbc_indiv'], dat2['dcbc_indiv'])\n",
    "# show degrees of freedom\n",
    "df = len(dat1) - 1\n",
    "# Show in scientific notation\n",
    "print(f'T = {res.statistic:.3f}, p = {res.pvalue:.3e}, df = {df}')\n",
    "# Show in normal notation\n",
    "print(f'T = {res.statistic:.3f}, p = {res.pvalue:.3f}, df = {df}')\n",
    "\n",
    "# -- Test for K=68 only -- #\n",
    "# Single vs cross-validated Fused\n",
    "dat1 = Data_single[(Data_single['symmetry'] == 'Symmetric')  & (Data_single['K'] == 68) ]\n",
    "dat2 = Data_fusion[(Data_fusion['symmetry'] == 'Symmetric')  & (Data_fusion['K'] == 68) ]\n",
    "res = stats.ttest_rel(dat1['dcbc_indiv'], dat2['dcbc_indiv'])\n",
    "df = len(dat1) - 1\n",
    "# Show in scientific notation\n",
    "print(f'T = {res.statistic:.3f}, p = {res.pvalue:.3e}, df = {df}')\n",
    "# Show in normal notation\n",
    "print(f'T = {res.statistic:.3f}, p = {res.pvalue:.3f}, df = {df}')\n"
   ]
  },
  {
   "cell_type": "markdown",
   "metadata": {},
   "source": [
    "# Symmetric vs Asymmetric: Group DCBC"
   ]
  },
  {
   "cell_type": "code",
   "execution_count": 76,
   "metadata": {},
   "outputs": [
    {
     "name": "stdout",
     "output_type": "stream",
     "text": [
      "\n",
      "Fusion symmetric vs Fusion asymmetric at 68\n",
      "T = -0.660, p = 5.108e-01, df = 110\n",
      "T = -0.660, p = 0.511, df = 110\n",
      "\n",
      "Fusion symmetric vs Fusion asymmetric\n",
      "T = -2.344, p = 2.089e-02, df = 110\n",
      "T = -2.344, p = 0.021, df = 110\n",
      "Percentage reduction = -5.61%\n",
      "\n",
      "Fusion symmetric vs Single asymmetric\n",
      "T = 4.855, p = 4.009e-06, df = 110\n",
      "T = 4.855, p = 0.000, df = 110\n",
      "\n",
      "Fusion symmetric vs Single asymmetric at K68\n",
      "T = 2.788, p = 6.249e-03, df = 110\n"
     ]
    }
   ],
   "source": [
    "# -- Test for K=68 only : Symmetric vs Asymmetric \n",
    "# Fused atlas symmetric vs Fused atlas asymmetric \n",
    "dat1 = Data_fusion[(Data_fusion['symmetry'] == 'Symmetric')  & (Data_fusion['K'] == 68) ]\n",
    "dat2 = Data_fusion[(Data_fusion['symmetry'] == 'Asymmetric')  & (Data_fusion['K'] == 68) ]\n",
    "res = stats.ttest_rel(dat1['dcbc_group'], dat2['dcbc_group'])\n",
    "df = len(dat1) - 1\n",
    "# Show in scientific notation\n",
    "print(f'\\nFusion symmetric vs Fusion asymmetric at 68')\n",
    "print(f'T = {res.statistic:.3f}, p = {res.pvalue:.3e}, df = {df}')\n",
    "# Show in normal notation\n",
    "print(f'T = {res.statistic:.3f}, p = {res.pvalue:.3f}, df = {df}')\n",
    "\n",
    "# -- Averaged across Ks:\n",
    "dat1 = Data_fusion[(Data_fusion['symmetry'] == 'Symmetric')  & Data_fusion['K'].isin([10, 20, 34, 40, 68])][['participant_id', 'dcbc_group', 'dcbc_indiv']].groupby(['participant_id']).mean()\n",
    "dat2 = Data_fusion[(Data_fusion['symmetry'] == 'Asymmetric')  & Data_fusion['K'].isin([10, 20, 34, 40, 68])][['participant_id', 'dcbc_group', 'dcbc_indiv']].groupby(['participant_id']).mean()\n",
    "res = stats.ttest_rel(dat1['dcbc_group'], dat2['dcbc_group'])\n",
    "# show degrees of freedom\n",
    "df = len(dat1) - 1\n",
    "# Show in scientific notation\n",
    "print(f'\\nFusion symmetric vs Fusion asymmetric')\n",
    "print(f'T = {res.statistic:.3f}, p = {res.pvalue:.3e}, df = {df}')\n",
    "# Show in normal notation\n",
    "print(f'T = {res.statistic:.3f}, p = {res.pvalue:.3f}, df = {df}')\n",
    "# Show percentage reduction\n",
    "print(f'Percentage reduction = {100*(1 - dat2[\"dcbc_group\"].mean()/dat1[\"dcbc_group\"].mean()):.2f}%')\n",
    "\n",
    "\n",
    "# -- Averaged across Ks:\n",
    "dat1 = Data_fusion[(Data_fusion['symmetry'] == 'Symmetric')  & Data_fusion['K'].isin([10, 20, 34, 40, 68])][['participant_id', 'dcbc_group', 'dcbc_indiv']].groupby(['participant_id']).mean()\n",
    "dat2 = Data_single[(Data_single['symmetry'] == 'Asymmetric')  & Data_single['K'].isin([10, 20, 34, 40, 68])][['participant_id', 'dcbc_group', 'dcbc_indiv']].groupby(['participant_id']).mean()\n",
    "res = stats.ttest_rel(dat1['dcbc_group'], dat2['dcbc_group'])\n",
    "# show degrees of freedom\n",
    "df = len(dat1) - 1\n",
    "# Show in scientific notation\n",
    "print(f'\\nFusion symmetric vs Single asymmetric')\n",
    "print(f'T = {res.statistic:.3f}, p = {res.pvalue:.3e}, df = {df}')\n",
    "# Show in normal notation\n",
    "print(f'T = {res.statistic:.3f}, p = {res.pvalue:.3f}, df = {df}')\n",
    "\n",
    "# Symmetric fused atlas vs Asymmetric single dataset atlas cross-validated\n",
    "dat1 = Data_fusion[(Data_fusion['symmetry'] == 'Symmetric')  & (Data_fusion['K'] == 68) ]\n",
    "dat2 = Data_single[(Data_single['symmetry'] == 'Asymmetric')  & (Data_single['K'] == 68) ]\n",
    "res = stats.ttest_rel(dat1['dcbc_group'], dat2['dcbc_group'])\n",
    "df = len(dat1) - 1\n",
    "# Show in scientific notation\n",
    "print(f'\\nFusion symmetric vs Single asymmetric at K68')\n",
    "print(f'T = {res.statistic:.3f}, p = {res.pvalue:.3e}, df = {df}')\n",
    "\n",
    "# --> No significant difference between asymmetric and symmetric in group dcbc! "
   ]
  },
  {
   "cell_type": "markdown",
   "metadata": {},
   "source": [
    "# Symmetric vs Asymmetric: Individual DCBC"
   ]
  },
  {
   "cell_type": "code",
   "execution_count": 77,
   "metadata": {},
   "outputs": [
    {
     "name": "stdout",
     "output_type": "stream",
     "text": [
      "\n",
      "Fusion symmetric vs Fusion asymmetric at K=68\n",
      "T = -4.081, p = 8.510e-05, df = 110\n",
      "T = -4.081, p = 0.000, df = 110\n",
      "\n",
      "Fusion symmetric vs Fusion asymmetric\n",
      "T = -5.023, p = 1.981e-06, df = 110\n",
      "T = -5.023, p = 0.000, df = 110\n",
      "Percentage reduction = -14.22%\n",
      "\n",
      "Fusion symmetric vs Single asymmetric\n",
      "T = 1.662, p = 9.936e-02, df = 110\n",
      "T = 1.662, p = 0.099, df = 110\n",
      "\n",
      "Fusion symmetric vs Single asymmetric at K=68\n",
      "T = -2.842, p = 5.338e-03, df = 110\n"
     ]
    }
   ],
   "source": [
    "# -- Test for K=68 only : Symmetric vs Asymmetric \n",
    "# Fused atlas symmetric vs Fused atlas asymmetric \n",
    "dat1 = Data_fusion[(Data_fusion['symmetry'] == 'Symmetric')  & (Data_fusion['K'] == 68) ]\n",
    "dat2 = Data_fusion[(Data_fusion['symmetry'] == 'Asymmetric')  & (Data_fusion['K'] == 68) ]\n",
    "res = stats.ttest_rel(dat1['dcbc_indiv'], dat2['dcbc_indiv'])\n",
    "df = len(dat1) - 1\n",
    "# Show in scientific notation\n",
    "print(f'\\nFusion symmetric vs Fusion asymmetric at K=68')\n",
    "print(f'T = {res.statistic:.3f}, p = {res.pvalue:.3e}, df = {df}')\n",
    "# Show in normal notation\n",
    "print(f'T = {res.statistic:.3f}, p = {res.pvalue:.3f}, df = {df}')\n",
    "\n",
    "\n",
    "# -- Averaged across Ks:\n",
    "dat1 = Data_fusion[(Data_fusion['symmetry'] == 'Symmetric')  & Data_fusion['K'].isin([10, 20, 34, 40, 68])][['participant_id', 'dcbc_group', 'dcbc_indiv']].groupby(['participant_id']).mean()\n",
    "dat2 = Data_fusion[(Data_fusion['symmetry'] == 'Asymmetric')  & Data_fusion['K'].isin([10, 20, 34, 40, 68])][['participant_id', 'dcbc_group', 'dcbc_indiv']].groupby(['participant_id']).mean()\n",
    "res = stats.ttest_rel(dat1['dcbc_indiv'], dat2['dcbc_indiv'])\n",
    "# show degrees of freedom\n",
    "df = len(dat1) - 1\n",
    "# Show in scientific notation\n",
    "print(f'\\nFusion symmetric vs Fusion asymmetric')\n",
    "print(f'T = {res.statistic:.3f}, p = {res.pvalue:.3e}, df = {df}')\n",
    "# Show in normal notation\n",
    "print(f'T = {res.statistic:.3f}, p = {res.pvalue:.3f}, df = {df}')\n",
    "# Show percentage reduction\n",
    "print(f'Percentage reduction = {100*(1 - dat2[\"dcbc_indiv\"].mean()/dat1[\"dcbc_indiv\"].mean()):.2f}%')\n",
    "\n",
    "# -- Averaged across Ks:\n",
    "dat1 = Data_fusion[(Data_fusion['symmetry'] == 'Symmetric')  & Data_fusion['K'].isin([10, 20, 34, 40, 68])][['participant_id', 'dcbc_group', 'dcbc_indiv']].groupby(['participant_id']).mean()\n",
    "dat2 = Data_single[(Data_single['symmetry'] == 'Asymmetric')  & Data_single['K'].isin([10, 20, 34, 40, 68])][['participant_id', 'dcbc_group', 'dcbc_indiv']].groupby(['participant_id']).mean()\n",
    "res = stats.ttest_rel(dat1['dcbc_indiv'], dat2['dcbc_indiv'])\n",
    "# show degrees of freedom\n",
    "df = len(dat1) - 1\n",
    "# Show in scientific notation\n",
    "print(f'\\nFusion symmetric vs Single asymmetric')\n",
    "print(f'T = {res.statistic:.3f}, p = {res.pvalue:.3e}, df = {df}')\n",
    "# Show in normal notation\n",
    "print(f'T = {res.statistic:.3f}, p = {res.pvalue:.3f}, df = {df}')\n",
    "\n",
    "\n",
    "# Symmetric fused atlas vs Asymmetric single dataset atlas cross-validated\n",
    "dat1 = Data_single[(Data_single['symmetry'] == 'Asymmetric')  & (Data_single['K'] == 68) ]\n",
    "dat2 = Data_fusion[(Data_fusion['symmetry'] == 'Symmetric')  & (Data_fusion['K'] == 68) ]\n",
    "res = stats.ttest_rel(dat1['dcbc_indiv'], dat2['dcbc_indiv'])\n",
    "df = len(dat1) - 1\n",
    "# Show in scientific notation\n",
    "print(f'\\nFusion symmetric vs Single asymmetric at K=68')\n",
    "print(f'T = {res.statistic:.3f}, p = {res.pvalue:.3e}, df = {df}')\n",
    "\n",
    "# --> No significant difference between asymmetric and symmetric in group dcbc! "
   ]
  },
  {
   "cell_type": "markdown",
   "metadata": {},
   "source": [
    "# Granularity: Does K=68 perform better than K=40 in the individual? Is there a difference between K=20 and K=68 in the group?"
   ]
  },
  {
   "cell_type": "code",
   "execution_count": 78,
   "metadata": {},
   "outputs": [
    {
     "name": "stdout",
     "output_type": "stream",
     "text": [
      "T = -1.580, p = 1.170e-01, df = 110\n",
      "T = -1.580, p = 0.117, df = 110\n",
      "T = 2.783, p = 6.345e-03, df = 110\n",
      "T = 2.783, p = 0.006, df = 110\n",
      "T = 7.584, p = 1.143e-11, df = 110\n",
      "T = 7.584, p = 0.000, df = 110\n"
     ]
    }
   ],
   "source": [
    "\n",
    "# -- Group DCBC 68 vs 20 -- #\n",
    "# Single vs cross-validated Fused\n",
    "dat1 = Data_fusion[(Data_single['symmetry'] == 'Symmetric')  & (Data_single['K'] == 68) ]\n",
    "dat2 = Data_fusion[(Data_fusion['symmetry'] == 'Symmetric')  & (Data_fusion['K'] == 20) ]\n",
    "res = stats.ttest_rel(dat1['dcbc_group'], dat2['dcbc_group'])\n",
    "df = len(dat1) - 1\n",
    "# Show in scientific notation\n",
    "print(f'T = {res.statistic:.3f}, p = {res.pvalue:.3e}, df = {df}')\n",
    "# Show in normal notation\n",
    "print(f'T = {res.statistic:.3f}, p = {res.pvalue:.3f}, df = {df}')\n",
    "\n",
    "\n",
    "\n",
    "# -- Group DCBC 68 vs 10 -- #\n",
    "# Single vs cross-validated Fused\n",
    "dat1 = Data_fusion[(Data_single['symmetry'] == 'Symmetric')  & (Data_single['K'] == 68) ]\n",
    "dat2 = Data_fusion[(Data_fusion['symmetry'] == 'Symmetric')  & (Data_fusion['K'] == 10) ]\n",
    "res = stats.ttest_rel(dat1['dcbc_group'], dat2['dcbc_group'])\n",
    "df = len(dat1) - 1\n",
    "# Show in scientific notation\n",
    "print(f'T = {res.statistic:.3f}, p = {res.pvalue:.3e}, df = {df}')\n",
    "# Show in normal notation\n",
    "print(f'T = {res.statistic:.3f}, p = {res.pvalue:.3f}, df = {df}')\n",
    "\n",
    "\n",
    "# -- Individual DCBC 68 vs 40 -- #\n",
    "# Single vs cross-validated Fused\n",
    "dat1 = Data_fusion[(Data_single['symmetry'] == 'Symmetric')  & (Data_single['K'] == 68) ]\n",
    "dat2 = Data_fusion[(Data_fusion['symmetry'] == 'Symmetric')  & (Data_fusion['K'] == 40) ]\n",
    "res = stats.ttest_rel(dat1['dcbc_indiv'], dat2['dcbc_indiv'])\n",
    "df = len(dat1) - 1\n",
    "# Show in scientific notation\n",
    "print(f'T = {res.statistic:.3f}, p = {res.pvalue:.3e}, df = {df}')\n",
    "# Show in normal notation\n",
    "print(f'T = {res.statistic:.3f}, p = {res.pvalue:.3f}, df = {df}')"
   ]
  }
 ],
 "metadata": {
  "kernelspec": {
   "display_name": "Python 3",
   "language": "python",
   "name": "python3"
  },
  "language_info": {
   "codemirror_mode": {
    "name": "ipython",
    "version": 3
   },
   "file_extension": ".py",
   "mimetype": "text/x-python",
   "name": "python",
   "nbconvert_exporter": "python",
   "pygments_lexer": "ipython3",
   "version": "3.9.10"
  },
  "orig_nbformat": 4,
  "vscode": {
   "interpreter": {
    "hash": "6f576643147e4b8cf152abb3cc999e302dc7167a7c41b51dd2e17d05f3cd1945"
   }
  }
 },
 "nbformat": 4,
 "nbformat_minor": 2
}
