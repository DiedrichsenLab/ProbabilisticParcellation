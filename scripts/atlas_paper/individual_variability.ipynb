{
 "cells": [
  {
   "attachments": {},
   "cell_type": "markdown",
   "metadata": {},
   "source": [
    "# Individual Variability across cerebellum"
   ]
  },
  {
   "cell_type": "code",
   "execution_count": 1,
   "metadata": {},
   "outputs": [],
   "source": [
    "import pandas as pd\n",
    "import numpy as np\n",
    "import torch as pt\n",
    "import matplotlib.pyplot as plt\n",
    "import seaborn as sb\n",
    "import Functional_Fusion.dataset as ds\n",
    "import ProbabilisticParcellation.util as ut\n",
    "from copy import deepcopy\n",
    "import ProbabilisticParcellation.learn_fusion_gpu as lf\n",
    "import ProbabilisticParcellation.hierarchical_clustering as cl\n",
    "import ProbabilisticParcellation.similarity_colormap as sc\n",
    "import ProbabilisticParcellation.export_atlas as ea\n",
    "import ProbabilisticParcellation.functional_profiles as fp\n",
    "import ProbabilisticParcellation.scripts.atlas_paper.symmetry as sm\n",
    "import ProbabilisticParcellation.scripts.atlas_paper.describe_atlas as da\n",
    "import Functional_Fusion.dataset as ds\n",
    "import HierarchBayesParcel.evaluation as ev\n",
    "import Functional_Fusion.atlas_map as am\n",
    "import SUITPy as suit\n",
    "import os\n",
    "import ProbabilisticParcellation.scripts.atlas_paper.individual_variability as var\n",
    "import nitools as nt\n",
    "import nibabel as nb\n"
   ]
  },
  {
   "cell_type": "code",
   "execution_count": 2,
   "metadata": {},
   "outputs": [],
   "source": [
    "figure_path = \"/Users/jdiedrichsen/Dropbox (Diedrichsenlab)/papers/AtlasPaper/figure_parts/\"\n",
    "if not os.path.exists(figure_path):\n",
    "    figure_path = \"/Users/callithrix/Dropbox/AtlasPaper/figure_parts/\"\n",
    "atlas_dir = '/Volumes/diedrichsen_data$/data/Cerebellum/ProbabilisticParcellationModel/Atlases/'\n"
   ]
  },
  {
   "cell_type": "code",
   "execution_count": 3,
   "metadata": {},
   "outputs": [],
   "source": [
    "# Settings\n",
    "\n",
    "norm = True\n",
    "subject_wise = True\n",
    "sym = 'Asym'\n",
    "K = 32\n",
    "space = 'MNISymC2'\n",
    "mname = f'Models_03/Nettekoven{sym}{K}_space-{space}'\n"
   ]
  },
  {
   "cell_type": "code",
   "execution_count": 4,
   "metadata": {},
   "outputs": [],
   "source": [
    "# Get individual parcellations\n",
    "try:\n",
    "    probs_indiv = pt.load(f'{ut.model_dir}/Models/{mname}_Uhat.pt')\n",
    "    probs_info = pd.read_csv(\n",
    "        f'{ut.model_dir}/Models/{mname}_Uhat_info.tsv', sep='\\t')\n",
    "except FileNotFoundError:\n",
    "    probs_indiv, probs_info = sm.export_uhats(\n",
    "        mname=mname)\n",
    "probs_indiv = probs_indiv.numpy()"
   ]
  },
  {
   "cell_type": "code",
   "execution_count": 5,
   "metadata": {},
   "outputs": [],
   "source": [
    "# Get inter-individual variability for all datasets (optional: normalize by reliability)\n",
    "datasets = probs_info['dataset'].unique()\n",
    "Corr = []\n",
    "for dataset in datasets:\n",
    "    probs_dataset = probs_indiv[probs_info.dataset == dataset, :, :]\n",
    "    corr_dataset = var.inter_individual_variability(\n",
    "        probs_dataset, subject_wise=subject_wise)\n",
    "    Corr.append(corr_dataset)\n",
    "    corr_dataset = var.reliability_norm(\n",
    "            corr_dataset, dataset, subject_wise=subject_wise)"
   ]
  },
  {
   "cell_type": "code",
   "execution_count": null,
   "metadata": {},
   "outputs": [],
   "source": [
    "var.plot_variability(corr_dataset[0], save=False)"
   ]
  },
  {
   "cell_type": "code",
   "execution_count": 16,
   "metadata": {},
   "outputs": [
    {
     "ename": "KeyboardInterrupt",
     "evalue": "",
     "output_type": "error",
     "traceback": [
      "\u001b[0;31m---------------------------------------------------------------------------\u001b[0m",
      "\u001b[0;31mKeyboardInterrupt\u001b[0m                         Traceback (most recent call last)",
      "\u001b[1;32m/Users/callithrix/code/Python/ProbabilisticParcellation/scripts/atlas_paper/individual_variability.ipynb Cell 8\u001b[0m in \u001b[0;36m3\n\u001b[1;32m      <a href='vscode-notebook-cell:/Users/callithrix/code/Python/ProbabilisticParcellation/scripts/atlas_paper/individual_variability.ipynb#W6sZmlsZQ%3D%3D?line=0'>1</a>\u001b[0m mean_corr \u001b[39m=\u001b[39m np\u001b[39m.\u001b[39marray([np\u001b[39m.\u001b[39mnanmean(corr, axis\u001b[39m=\u001b[39m\u001b[39m1\u001b[39m) \u001b[39mfor\u001b[39;00m corr \u001b[39min\u001b[39;00m Corr])\n\u001b[1;32m      <a href='vscode-notebook-cell:/Users/callithrix/code/Python/ProbabilisticParcellation/scripts/atlas_paper/individual_variability.ipynb#W6sZmlsZQ%3D%3D?line=1'>2</a>\u001b[0m plt\u001b[39m.\u001b[39mfigure(figsize\u001b[39m=\u001b[39m(\u001b[39m14\u001b[39m, \u001b[39m8\u001b[39m))\n\u001b[0;32m----> <a href='vscode-notebook-cell:/Users/callithrix/code/Python/ProbabilisticParcellation/scripts/atlas_paper/individual_variability.ipynb#W6sZmlsZQ%3D%3D?line=2'>3</a>\u001b[0m ut\u001b[39m.\u001b[39;49mplot_multi_flat(mean_corr, space,\n\u001b[1;32m      <a href='vscode-notebook-cell:/Users/callithrix/code/Python/ProbabilisticParcellation/scripts/atlas_paper/individual_variability.ipynb#W6sZmlsZQ%3D%3D?line=3'>4</a>\u001b[0m                    grid\u001b[39m=\u001b[39;49m(\u001b[39m2\u001b[39;49m, \u001b[39m4\u001b[39;49m),\n\u001b[1;32m      <a href='vscode-notebook-cell:/Users/callithrix/code/Python/ProbabilisticParcellation/scripts/atlas_paper/individual_variability.ipynb#W6sZmlsZQ%3D%3D?line=4'>5</a>\u001b[0m                    dtype\u001b[39m=\u001b[39;49m\u001b[39m'\u001b[39;49m\u001b[39mfunc\u001b[39;49m\u001b[39m'\u001b[39;49m,\n\u001b[1;32m      <a href='vscode-notebook-cell:/Users/callithrix/code/Python/ProbabilisticParcellation/scripts/atlas_paper/individual_variability.ipynb#W6sZmlsZQ%3D%3D?line=5'>6</a>\u001b[0m                    colorbar\u001b[39m=\u001b[39;49m\u001b[39mTrue\u001b[39;49;00m,\n\u001b[1;32m      <a href='vscode-notebook-cell:/Users/callithrix/code/Python/ProbabilisticParcellation/scripts/atlas_paper/individual_variability.ipynb#W6sZmlsZQ%3D%3D?line=6'>7</a>\u001b[0m                    titles\u001b[39m=\u001b[39;49mprobs_info[\u001b[39m'\u001b[39;49m\u001b[39mdataset\u001b[39;49m\u001b[39m'\u001b[39;49m]\u001b[39m.\u001b[39;49munique()[\u001b[39m0\u001b[39;49m],\n\u001b[1;32m      <a href='vscode-notebook-cell:/Users/callithrix/code/Python/ProbabilisticParcellation/scripts/atlas_paper/individual_variability.ipynb#W6sZmlsZQ%3D%3D?line=7'>8</a>\u001b[0m                    cmap\u001b[39m=\u001b[39;49m\u001b[39m'\u001b[39;49m\u001b[39mhot\u001b[39;49m\u001b[39m'\u001b[39;49m)\n",
      "File \u001b[0;32m~/code/Python/ProbabilisticParcellation/util.py:311\u001b[0m, in \u001b[0;36mplot_multi_flat\u001b[0;34m(data, atlas, grid, cmap, dtype, cscale, titles, colorbar, save_fig, save_under)\u001b[0m\n\u001b[1;32m    309\u001b[0m \u001b[39mfor\u001b[39;00m i \u001b[39min\u001b[39;00m np\u001b[39m.\u001b[39marange(n_subplots):\n\u001b[1;32m    310\u001b[0m     plt\u001b[39m.\u001b[39msubplot(grid[\u001b[39m0\u001b[39m], grid[\u001b[39m1\u001b[39m], i \u001b[39m+\u001b[39m \u001b[39m1\u001b[39m)\n\u001b[0;32m--> 311\u001b[0m     ax \u001b[39m=\u001b[39m plot_data_flat(data[i], atlas,\n\u001b[1;32m    312\u001b[0m                         cmap\u001b[39m=\u001b[39;49mcmap[i],\n\u001b[1;32m    313\u001b[0m                         dtype\u001b[39m=\u001b[39;49mdtype,\n\u001b[1;32m    314\u001b[0m                         cscale\u001b[39m=\u001b[39;49mcscale,\n\u001b[1;32m    315\u001b[0m                         render\u001b[39m=\u001b[39;49m\u001b[39m'\u001b[39;49m\u001b[39mmatplotlib\u001b[39;49m\u001b[39m'\u001b[39;49m,\n\u001b[1;32m    316\u001b[0m                         colorbar\u001b[39m=\u001b[39;49m(i \u001b[39m==\u001b[39;49m \u001b[39m0\u001b[39;49m) \u001b[39m&\u001b[39;49m colorbar)\n\u001b[1;32m    317\u001b[0m     \u001b[39mif\u001b[39;00m titles \u001b[39mis\u001b[39;00m \u001b[39mnot\u001b[39;00m \u001b[39mNone\u001b[39;00m:\n\u001b[1;32m    318\u001b[0m         plt\u001b[39m.\u001b[39mtitle(titles[i])\n",
      "File \u001b[0;32m~/code/Python/ProbabilisticParcellation/util.py:254\u001b[0m, in \u001b[0;36mplot_data_flat\u001b[0;34m(data, atlas, cmap, dtype, cscale, labels, render, colorbar)\u001b[0m\n\u001b[1;32m    251\u001b[0m     surf_data \u001b[39m=\u001b[39m suit\u001b[39m.\u001b[39mflatmap\u001b[39m.\u001b[39mvol_to_surf(Nifti, stats\u001b[39m=\u001b[39m\u001b[39m'\u001b[39m\u001b[39mnanmean\u001b[39m\u001b[39m'\u001b[39m,\n\u001b[1;32m    252\u001b[0m                                          space\u001b[39m=\u001b[39mainf[\u001b[39m'\u001b[39m\u001b[39mnormspace\u001b[39m\u001b[39m'\u001b[39m])\n\u001b[1;32m    253\u001b[0m     surf_data \u001b[39m=\u001b[39m np\u001b[39m.\u001b[39mnan_to_num(surf_data)\n\u001b[0;32m--> 254\u001b[0m     ax \u001b[39m=\u001b[39m suit\u001b[39m.\u001b[39;49mflatmap\u001b[39m.\u001b[39;49mplot(surf_data,\n\u001b[1;32m    255\u001b[0m                            render\u001b[39m=\u001b[39;49mrender,\n\u001b[1;32m    256\u001b[0m                            cmap\u001b[39m=\u001b[39;49mcmap,\n\u001b[1;32m    257\u001b[0m                            cscale\u001b[39m=\u001b[39;49mcscale,\n\u001b[1;32m    258\u001b[0m                            new_figure\u001b[39m=\u001b[39;49m\u001b[39mFalse\u001b[39;49;00m,\n\u001b[1;32m    259\u001b[0m                            overlay_type\u001b[39m=\u001b[39;49m\u001b[39m'\u001b[39;49m\u001b[39mfunc\u001b[39;49m\u001b[39m'\u001b[39;49m,\n\u001b[1;32m    260\u001b[0m                            colorbar\u001b[39m=\u001b[39;49mcolorbar)\n\u001b[1;32m    261\u001b[0m \u001b[39m# Mapping probabilities on the flatmap and then\u001b[39;00m\n\u001b[1;32m    262\u001b[0m \u001b[39m# determining a winner from this (slightly better than label)\u001b[39;00m\n\u001b[1;32m    263\u001b[0m \u001b[39melif\u001b[39;00m dtype \u001b[39m==\u001b[39m \u001b[39m'\u001b[39m\u001b[39mprob\u001b[39m\u001b[39m'\u001b[39m:\n",
      "File \u001b[0;32m~/code/Python/SUITPy/SUITPy/flatmap.py:705\u001b[0m, in \u001b[0;36mplot\u001b[0;34m(data, surf, underlay, undermap, underscale, overlay_type, threshold, cmap, cscale, label_names, borders, bordercolor, bordersize, alpha, render, hover, new_figure, colorbar, cbar_tick_format, backgroundcolor, frame)\u001b[0m\n\u001b[1;32m    703\u001b[0m \u001b[39m# Render with Matplotlib\u001b[39;00m\n\u001b[1;32m    704\u001b[0m \u001b[39mif\u001b[39;00m render \u001b[39m==\u001b[39m \u001b[39m'\u001b[39m\u001b[39mmatplotlib\u001b[39m\u001b[39m'\u001b[39m:\n\u001b[0;32m--> 705\u001b[0m     ax \u001b[39m=\u001b[39m _render_matplotlib(vertices, faces, color, borders,\n\u001b[1;32m    706\u001b[0m                             bordercolor, bordersize, new_figure,backgroundcolor,frame)\n\u001b[1;32m    707\u001b[0m     \u001b[39m# set up colorbar\u001b[39;00m\n\u001b[1;32m    708\u001b[0m     \u001b[39mif\u001b[39;00m colorbar:\n",
      "File \u001b[0;32m~/code/Python/SUITPy/SUITPy/flatmap.py:867\u001b[0m, in \u001b[0;36m_render_matplotlib\u001b[0;34m(vertices, faces, face_color, borders, bordercolor, bordersize, new_figure, backgroundcolor, frame)\u001b[0m\n\u001b[1;32m    864\u001b[0m patches \u001b[39m=\u001b[39m []\n\u001b[1;32m    866\u001b[0m \u001b[39mfor\u001b[39;00m i,f \u001b[39min\u001b[39;00m \u001b[39menumerate\u001b[39m(faces[face_in]):\n\u001b[0;32m--> 867\u001b[0m     polygon \u001b[39m=\u001b[39m Polygon(vertices[f,\u001b[39m0\u001b[39;49m:\u001b[39m2\u001b[39;49m], \u001b[39mTrue\u001b[39;49;00m)\n\u001b[1;32m    868\u001b[0m     patches\u001b[39m.\u001b[39mappend(polygon)\n\u001b[1;32m    869\u001b[0m p \u001b[39m=\u001b[39m PatchCollection(patches)\n",
      "File \u001b[0;32m~/Documents/Projects/Functional_Fusion/code/env/lib/python3.9/site-packages/matplotlib/_api/deprecation.py:454\u001b[0m, in \u001b[0;36mmake_keyword_only.<locals>.wrapper\u001b[0;34m(*args, **kwargs)\u001b[0m\n\u001b[1;32m    448\u001b[0m \u001b[39mif\u001b[39;00m \u001b[39mlen\u001b[39m(args) \u001b[39m>\u001b[39m name_idx:\n\u001b[1;32m    449\u001b[0m     warn_deprecated(\n\u001b[1;32m    450\u001b[0m         since, message\u001b[39m=\u001b[39m\u001b[39m\"\u001b[39m\u001b[39mPassing the \u001b[39m\u001b[39m%(name)s\u001b[39;00m\u001b[39m \u001b[39m\u001b[39m%(obj_type)s\u001b[39;00m\u001b[39m \u001b[39m\u001b[39m\"\u001b[39m\n\u001b[1;32m    451\u001b[0m         \u001b[39m\"\u001b[39m\u001b[39mpositionally is deprecated since Matplotlib \u001b[39m\u001b[39m%(since)s\u001b[39;00m\u001b[39m; the \u001b[39m\u001b[39m\"\u001b[39m\n\u001b[1;32m    452\u001b[0m         \u001b[39m\"\u001b[39m\u001b[39mparameter will become keyword-only \u001b[39m\u001b[39m%(removal)s\u001b[39;00m\u001b[39m.\u001b[39m\u001b[39m\"\u001b[39m,\n\u001b[1;32m    453\u001b[0m         name\u001b[39m=\u001b[39mname, obj_type\u001b[39m=\u001b[39m\u001b[39mf\u001b[39m\u001b[39m\"\u001b[39m\u001b[39mparameter of \u001b[39m\u001b[39m{\u001b[39;00mfunc\u001b[39m.\u001b[39m\u001b[39m__name__\u001b[39m\u001b[39m}\u001b[39;00m\u001b[39m()\u001b[39m\u001b[39m\"\u001b[39m)\n\u001b[0;32m--> 454\u001b[0m \u001b[39mreturn\u001b[39;00m func(\u001b[39m*\u001b[39;49margs, \u001b[39m*\u001b[39;49m\u001b[39m*\u001b[39;49mkwargs)\n",
      "File \u001b[0;32m~/Documents/Projects/Functional_Fusion/code/env/lib/python3.9/site-packages/matplotlib/patches.py:1093\u001b[0m, in \u001b[0;36mPolygon.__init__\u001b[0;34m(self, xy, closed, **kwargs)\u001b[0m\n\u001b[1;32m   1091\u001b[0m \u001b[39msuper\u001b[39m()\u001b[39m.\u001b[39m\u001b[39m__init__\u001b[39m(\u001b[39m*\u001b[39m\u001b[39m*\u001b[39mkwargs)\n\u001b[1;32m   1092\u001b[0m \u001b[39mself\u001b[39m\u001b[39m.\u001b[39m_closed \u001b[39m=\u001b[39m closed\n\u001b[0;32m-> 1093\u001b[0m \u001b[39mself\u001b[39;49m\u001b[39m.\u001b[39;49mset_xy(xy)\n",
      "File \u001b[0;32m~/Documents/Projects/Functional_Fusion/code/env/lib/python3.9/site-packages/matplotlib/patches.py:1153\u001b[0m, in \u001b[0;36mPolygon.set_xy\u001b[0;34m(self, xy)\u001b[0m\n\u001b[1;32m   1147\u001b[0m \u001b[39mif\u001b[39;00m \u001b[39mself\u001b[39m\u001b[39m.\u001b[39m_closed:\n\u001b[1;32m   1148\u001b[0m     \u001b[39m# if the first and last vertex are the \"same\", then we assume that\u001b[39;00m\n\u001b[1;32m   1149\u001b[0m     \u001b[39m# the user explicitly passed the CLOSEPOLY vertex. Otherwise, we\u001b[39;00m\n\u001b[1;32m   1150\u001b[0m     \u001b[39m# have to append one since the last vertex will be \"ignored\" by\u001b[39;00m\n\u001b[1;32m   1151\u001b[0m     \u001b[39m# Path\u001b[39;00m\n\u001b[1;32m   1152\u001b[0m     \u001b[39mif\u001b[39;00m nverts \u001b[39m==\u001b[39m \u001b[39m1\u001b[39m \u001b[39mor\u001b[39;00m nverts \u001b[39m>\u001b[39m \u001b[39m1\u001b[39m \u001b[39mand\u001b[39;00m (xy[\u001b[39m0\u001b[39m] \u001b[39m!=\u001b[39m xy[\u001b[39m-\u001b[39m\u001b[39m1\u001b[39m])\u001b[39m.\u001b[39many():\n\u001b[0;32m-> 1153\u001b[0m         xy \u001b[39m=\u001b[39m np\u001b[39m.\u001b[39;49mconcatenate([xy, [xy[\u001b[39m0\u001b[39;49m]]])\n\u001b[1;32m   1154\u001b[0m \u001b[39melse\u001b[39;00m:\n\u001b[1;32m   1155\u001b[0m     \u001b[39m# if we aren't closed, and the last vertex matches the first, then\u001b[39;00m\n\u001b[1;32m   1156\u001b[0m     \u001b[39m# we assume we have an unnecessary CLOSEPOLY vertex and remove it\u001b[39;00m\n\u001b[1;32m   1157\u001b[0m     \u001b[39mif\u001b[39;00m nverts \u001b[39m>\u001b[39m \u001b[39m2\u001b[39m \u001b[39mand\u001b[39;00m (xy[\u001b[39m0\u001b[39m] \u001b[39m==\u001b[39m xy[\u001b[39m-\u001b[39m\u001b[39m1\u001b[39m])\u001b[39m.\u001b[39mall():\n",
      "File \u001b[0;32m<__array_function__ internals>:180\u001b[0m, in \u001b[0;36mconcatenate\u001b[0;34m(*args, **kwargs)\u001b[0m\n",
      "\u001b[0;31mKeyboardInterrupt\u001b[0m: "
     ]
    },
    {
     "data": {
      "image/png": "[encoded data removed]",
      "text/plain": [
       "<Figure size 1400x800 with 1 Axes>"
      ]
     },
     "metadata": {},
     "output_type": "display_data"
    }
   ],
   "source": [
    "# Average across subjects within each dataset\n",
    "mean_corr = np.array([np.nanmean(corr, axis=1) for corr in Corr])\n",
    "\n",
    "# Plot for each dataset\n",
    "plt.figure(figsize=(14, 8))\n",
    "ut.plot_multi_flat(mean_corr, space,\n",
    "                   grid=(2, 4),\n",
    "                   dtype='func',\n",
    "                   colorbar=True,\n",
    "                   titles=probs_info['dataset'].unique(),\n",
    "                   cmap='hot')\n"
   ]
  },
  {
   "attachments": {},
   "cell_type": "markdown",
   "metadata": {},
   "source": [
    "# Plot individual variability averaged for each parcel of Sym 32"
   ]
  },
  {
   "cell_type": "code",
   "execution_count": 10,
   "metadata": {},
   "outputs": [],
   "source": [
    "mname = f'Models_03/NettekovenSym{K}_space-{space}'\n",
    "_, cmap, labels = nt.read_lut(atlas_dir +\n",
    "                              'NettekovenSym32.lut')\n",
    "pseg = nb.load(atlas_dir + 'NettekovenSym32_space-MNISymC2_probseg.nii')\n",
    "\n",
    "surf_data = suit.flatmap.vol_to_surf(pseg, stats='nanmean',\n",
    "                                     space='MNISymC')\n",
    "surf_parcel = np.argmax(surf_data, axis=1) + 1\n",
    "surf_parcel = np.nan_to_num(surf_parcel, copy=False).astype(int)\n",
    "\n"
   ]
  },
  {
   "cell_type": "code",
   "execution_count": null,
   "metadata": {},
   "outputs": [],
   "source": [
    "# Fill in the mean correlation for each parcel\n",
    "show_corr = mean_corr[0]\n",
    "sym_map = np.zeros(surf_parcel.shape) * np.nan\n",
    "sym_map[surf_parcel > 0] = show_corr[surf_parcel[surf_parcel > 0] - 1]\n",
    "\n",
    "# Plot the symmetry map\n",
    "plt.figure(figsize=(10, 10))\n",
    "suit.flatmap.plot(sym_map,\n",
    "                  render='matplotlib',\n",
    "                  overlay_type='func',\n",
    "                  new_figure=False,\n",
    "                  colorbar=True,\n",
    "                  cscale=(0,1),\n",
    "                  cmap='hot')\n",
    "plt.savefig(figure_path + 'Individual_variability_mdtb.png',\n",
    "            dpi=300, bbox_inches='tight')\n"
   ]
  }
 ],
 "metadata": {
  "kernelspec": {
   "display_name": "Python 3",
   "language": "python",
   "name": "python3"
  },
  "language_info": {
   "codemirror_mode": {
    "name": "ipython",
    "version": 3
   },
   "file_extension": ".py",
   "mimetype": "text/x-python",
   "name": "python",
   "nbconvert_exporter": "python",
   "pygments_lexer": "ipython3",
   "version": "3.9.5"
  },
  "orig_nbformat": 4
 },
 "nbformat": 4,
 "nbformat_minor": 2
}
